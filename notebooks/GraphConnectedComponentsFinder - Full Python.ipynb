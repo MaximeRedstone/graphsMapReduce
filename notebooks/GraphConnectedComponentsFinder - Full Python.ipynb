{
 "cells": [
  {
   "cell_type": "markdown",
   "metadata": {
    "application/vnd.databricks.v1+cell": {
     "inputWidgets": {},
     "nuid": "34ffcfaf-792f-4212-b677-7858e73d432e",
     "showTitle": false,
     "title": ""
    }
   },
   "source": [
    "# Pre-processing\n",
    "\n",
    "Loading of the graph generator"
   ]
  },
  {
   "cell_type": "code",
   "execution_count": 0,
   "metadata": {
    "application/vnd.databricks.v1+cell": {
     "inputWidgets": {},
     "nuid": "cd017966-4a2e-4c67-8205-c4027844cbbb",
     "showTitle": false,
     "title": ""
    }
   },
   "outputs": [
    {
     "data": {
      "text/html": [
       "<style scoped>\n",
       "  .ansiout {\n",
       "    display: block;\n",
       "    unicode-bidi: embed;\n",
       "    white-space: pre-wrap;\n",
       "    word-wrap: break-word;\n",
       "    word-break: break-all;\n",
       "    font-family: \"Source Code Pro\", \"Menlo\", monospace;;\n",
       "    font-size: 13px;\n",
       "    color: #555;\n",
       "    margin-left: 4px;\n",
       "    line-height: 19px;\n",
       "  }\n",
       "</style>\n",
       "<div class=\"ansiout\"></div>"
      ]
     },
     "metadata": {
      "application/vnd.databricks.v1+output": {
       "addedWidgets": {},
       "arguments": {},
       "data": "<div class=\"ansiout\"></div>",
       "datasetInfos": [],
       "removedWidgets": [],
       "type": "html"
      }
     },
     "output_type": "display_data"
    }
   ],
   "source": [
    "import os\n",
    "import subprocess\n",
    "import time\n",
    "from pyspark.sql.types import StructType, StructField, IntegerType, StringType, DataType, FloatType, MapType\n",
    "import pyspark.sql.functions as F "
   ]
  },
  {
   "cell_type": "code",
   "execution_count": 0,
   "metadata": {
    "application/vnd.databricks.v1+cell": {
     "inputWidgets": {},
     "nuid": "a5d5f9fb-dc98-4439-9336-b2f0ff49e456",
     "showTitle": false,
     "title": ""
    }
   },
   "outputs": [],
   "source": [
    "dbutils.widgets.text(\"username\", \"\", \"Please enter your git username\")\n",
    "dbutils.widgets.text(\"password\", \"\", \"Please enter your password\")"
   ]
  },
  {
   "cell_type": "code",
   "execution_count": 0,
   "metadata": {
    "application/vnd.databricks.v1+cell": {
     "inputWidgets": {},
     "nuid": "26a57153-052a-43a1-a0bd-90ffac9f61e5",
     "showTitle": false,
     "title": ""
    }
   },
   "outputs": [],
   "source": [
    "time.sleep(5)"
   ]
  },
  {
   "cell_type": "code",
   "execution_count": 0,
   "metadata": {
    "application/vnd.databricks.v1+cell": {
     "inputWidgets": {},
     "nuid": "ed7edacf-7e4c-48d9-9509-a9fd38b8dd0a",
     "showTitle": false,
     "title": ""
    }
   },
   "outputs": [
    {
     "data": {
      "text/html": [
       "<style scoped>\n",
       "  .ansiout {\n",
       "    display: block;\n",
       "    unicode-bidi: embed;\n",
       "    white-space: pre-wrap;\n",
       "    word-wrap: break-word;\n",
       "    word-break: break-all;\n",
       "    font-family: \"Source Code Pro\", \"Menlo\", monospace;;\n",
       "    font-size: 13px;\n",
       "    color: #555;\n",
       "    margin-left: 4px;\n",
       "    line-height: 19px;\n",
       "  }\n",
       "</style>\n",
       "<div class=\"ansiout\"></div>"
      ]
     },
     "metadata": {
      "application/vnd.databricks.v1+output": {
       "addedWidgets": {},
       "arguments": {},
       "data": "<div class=\"ansiout\"></div>",
       "datasetInfos": [],
       "removedWidgets": [],
       "type": "html"
      }
     },
     "output_type": "display_data"
    }
   ],
   "source": [
    "# username = dbutils.widgets.get(\"username\")\n",
    "# password = dbutils.widgets.get(\"password\")\n",
    "username = 'sparkistan'\n",
    "password = 'Nutella336kJ'\n",
    "url = \"https://\" + username + \":\" + password + \"@github.com/MaximeRedstone/graphsMapReduce.git\"\n",
    "email = username + username + \"@gmail.com\"\n",
    "dbutils.widgets.removeAll()"
   ]
  },
  {
   "cell_type": "code",
   "execution_count": 0,
   "metadata": {
    "application/vnd.databricks.v1+cell": {
     "inputWidgets": {},
     "nuid": "96eb61a4-945e-49a1-abc5-75986d32df63",
     "showTitle": false,
     "title": ""
    }
   },
   "outputs": [
    {
     "data": {
      "text/html": [
       "<style scoped>\n",
       "  .ansiout {\n",
       "    display: block;\n",
       "    unicode-bidi: embed;\n",
       "    white-space: pre-wrap;\n",
       "    word-wrap: break-word;\n",
       "    word-break: break-all;\n",
       "    font-family: \"Source Code Pro\", \"Menlo\", monospace;;\n",
       "    font-size: 13px;\n",
       "    color: #555;\n",
       "    margin-left: 4px;\n",
       "    line-height: 19px;\n",
       "  }\n",
       "</style>\n",
       "<div class=\"ansiout\">Cloning into &#39;graphsMapReduce&#39;...\r\n",
       "remote: Enumerating objects: 234, done.\r\n",
       "remote: Counting objects:   0% (1/234)\r",
       "remote: Counting objects:   1% (3/234)\r",
       "remote: Counting objects:   2% (5/234)\r",
       "remote: Counting objects:   3% (8/234)\r",
       "remote: Counting objects:   4% (10/234)\r",
       "remote: Counting objects:   5% (12/234)\r",
       "remote: Counting objects:   6% (15/234)\r",
       "remote: Counting objects:   7% (17/234)\r",
       "remote: Counting objects:   8% (19/234)\r",
       "remote: Counting objects:   9% (22/234)\r",
       "remote: Counting objects:  10% (24/234)\r",
       "remote: Counting objects:  11% (26/234)\r",
       "remote: Counting objects:  12% (29/234)\r",
       "remote: Counting objects:  13% (31/234)\r",
       "remote: Counting objects:  14% (33/234)\r",
       "remote: Counting objects:  15% (36/234)\r",
       "remote: Counting objects:  16% (38/234)\r",
       "remote: Counting objects:  17% (40/234)\r",
       "remote: Counting objects:  18% (43/234)\r",
       "remote: Counting objects:  19% (45/234)\r",
       "remote: Counting objects:  20% (47/234)\r",
       "remote: Counting objects:  21% (50/234)\r",
       "remote: Counting objects:  22% (52/234)\r",
       "remote: Counting objects:  23% (54/234)\r",
       "remote: Counting objects:  24% (57/234)\r",
       "remote: Counting objects:  25% (59/234)\r",
       "remote: Counting objects:  26% (61/234)\r",
       "remote: Counting objects:  27% (64/234)\r",
       "remote: Counting objects:  28% (66/234)\r",
       "remote: Counting objects:  29% (68/234)\r",
       "remote: Counting objects:  30% (71/234)\r",
       "remote: Counting objects:  31% (73/234)\r",
       "remote: Counting objects:  32% (75/234)\r",
       "remote: Counting objects:  33% (78/234)\r",
       "remote: Counting objects:  34% (80/234)\r",
       "remote: Counting objects:  35% (82/234)\r",
       "remote: Counting objects:  36% (85/234)\r",
       "remote: Counting objects:  37% (87/234)\r",
       "remote: Counting objects:  38% (89/234)\r",
       "remote: Counting objects:  39% (92/234)\r",
       "remote: Counting objects:  40% (94/234)\r",
       "remote: Counting objects:  41% (96/234)\r",
       "remote: Counting objects:  42% (99/234)\r",
       "remote: Counting objects:  43% (101/234)\r",
       "remote: Counting objects:  44% (103/234)\r",
       "remote: Counting objects:  45% (106/234)\r",
       "remote: Counting objects:  46% (108/234)\r",
       "remote: Counting objects:  47% (110/234)\r",
       "remote: Counting objects:  48% (113/234)\r",
       "remote: Counting objects:  49% (115/234)\r",
       "remote: Counting objects:  50% (117/234)\r",
       "remote: Counting objects:  51% (120/234)\r",
       "remote: Counting objects:  52% (122/234)\r",
       "remote: Counting objects:  53% (125/234)\r",
       "remote: Counting objects:  54% (127/234)\r",
       "remote: Counting objects:  55% (129/234)\r",
       "remote: Counting objects:  56% (132/234)\r",
       "remote: Counting objects:  57% (134/234)\r",
       "remote: Counting objects:  58% (136/234)\r",
       "remote: Counting objects:  59% (139/234)\r",
       "remote: Counting objects:  60% (141/234)\r",
       "remote: Counting objects:  61% (143/234)\r",
       "remote: Counting objects:  62% (146/234)\r",
       "remote: Counting objects:  63% (148/234)\r",
       "remote: Counting objects:  64% (150/234)\r",
       "remote: Counting objects:  65% (153/234)\r",
       "remote: Counting objects:  66% (155/234)\r",
       "remote: Counting objects:  67% (157/234)\r",
       "remote: Counting objects:  68% (160/234)\r",
       "remote: Counting objects:  69% (162/234)\r",
       "remote: Counting objects:  70% (164/234)\r",
       "remote: Counting objects:  71% (167/234)\r",
       "remote: Counting objects:  72% (169/234)\r",
       "remote: Counting objects:  73% (171/234)\r",
       "remote: Counting objects:  74% (174/234)\r",
       "remote: Counting objects:  75% (176/234)\r",
       "remote: Counting objects:  76% (178/234)\r",
       "remote: Counting objects:  77% (181/234)\r",
       "remote: Counting objects:  78% (183/234)\r",
       "remote: Counting objects:  79% (185/234)\r",
       "remote: Counting objects:  80% (188/234)\r",
       "remote: Counting objects:  81% (190/234)\r",
       "remote: Counting objects:  82% (192/234)\r",
       "remote: Counting objects:  83% (195/234)\r",
       "remote: Counting objects:  84% (197/234)\r",
       "remote: Counting objects:  85% (199/234)\r",
       "remote: Counting objects:  86% (202/234)\r",
       "remote: Counting objects:  87% (204/234)\r",
       "remote: Counting objects:  88% (206/234)\r",
       "remote: Counting objects:  89% (209/234)\r",
       "remote: Counting objects:  90% (211/234)\r",
       "remote: Counting objects:  91% (213/234)\r",
       "remote: Counting objects:  92% (216/234)\r",
       "remote: Counting objects:  93% (218/234)\r",
       "remote: Counting objects:  94% (220/234)\r",
       "remote: Counting objects:  95% (223/234)\r",
       "remote: Counting objects:  96% (225/234)\r",
       "remote: Counting objects:  97% (227/234)\r",
       "remote: Counting objects:  98% (230/234)\r",
       "remote: Counting objects:  99% (232/234)\r",
       "remote: Counting objects: 100% (234/234)\r",
       "remote: Counting objects: 100% (234/234), done.\r\n",
       "remote: Compressing objects:   0% (1/157)\r",
       "remote: Compressing objects:   1% (2/157)\r",
       "remote: Compressing objects:   1% (3/157)\r",
       "remote: Compressing objects:   2% (4/157)\r",
       "remote: Compressing objects:   3% (5/157)\r",
       "remote: Compressing objects:   4% (7/157)\r",
       "remote: Compressing objects:   5% (8/157)\r",
       "remote: Compressing objects:   6% (10/157)\r",
       "remote: Compressing objects:   7% (11/157)\r",
       "remote: Compressing objects:   8% (13/157)\r",
       "remote: Compressing objects:   9% (15/157)\r",
       "remote: Compressing objects:  10% (16/157)\r",
       "remote: Compressing objects:  11% (18/157)\r",
       "remote: Compressing objects:  12% (19/157)\r",
       "remote: Compressing objects:  13% (21/157)\r",
       "remote: Compressing objects:  14% (22/157)\r",
       "remote: Compressing objects:  15% (24/157)\r",
       "remote: Compressing objects:  16% (26/157)\r",
       "remote: Compressing objects:  17% (27/157)\r",
       "remote: Compressing objects:  18% (29/157)\r",
       "remote: Compressing objects:  19% (30/157)\r",
       "remote: Compressing objects:  20% (32/157)\r",
       "remote: Compressing objects:  21% (33/157)\r",
       "remote: Compressing objects:  22% (35/157)\r",
       "remote: Compressing objects:  23% (37/157)\r",
       "remote: Compressing objects:  24% (38/157)\r",
       "remote: Compressing objects:  25% (40/157)\r",
       "remote: Compressing objects:  26% (41/157)\r",
       "remote: Compressing objects:  27% (43/157)\r",
       "remote: Compressing objects:  28% (44/157)\r",
       "remote: Compressing objects:  29% (46/157)\r",
       "remote: Compressing objects:  30% (48/157)\r",
       "remote: Compressing objects:  31% (49/157)\r",
       "remote: Compressing objects:  32% (51/157)\r",
       "remote: Compressing objects:  33% (52/157)\r",
       "remote: Compressing objects:  34% (54/157)\r",
       "remote: Compressing objects:  35% (55/157)\r",
       "remote: Compressing objects:  36% (57/157)\r",
       "remote: Compressing objects:  37% (59/157)\r",
       "remote: Compressing objects:  38% (60/157)\r",
       "remote: Compressing objects:  39% (62/157)\r",
       "remote: Compressing objects:  40% (63/157)\r",
       "remote: Compressing objects:  41% (65/157)\r",
       "remote: Compressing objects:  42% (66/157)\r",
       "remote: Compressing objects:  43% (68/157)\r",
       "remote: Compressing objects:  44% (70/157)\r",
       "remote: Compressing objects:  45% (71/157)\r",
       "remote: Compressing objects:  46% (73/157)\r",
       "remote: Compressing objects:  47% (74/157)\r",
       "remote: Compressing objects:  48% (76/157)\r",
       "remote: Compressing objects:  49% (77/157)\r",
       "remote: Compressing objects:  50% (79/157)\r",
       "remote: Compressing objects:  51% (81/157)\r",
       "remote: Compressing objects:  52% (82/157)\r",
       "remote: Compressing objects:  53% (84/157)\r",
       "remote: Compressing objects:  54% (85/157)\r",
       "remote: Compressing objects:  55% (87/157)\r",
       "remote: Compressing objects:  56% (88/157)\r",
       "remote: Compressing objects:  57% (90/157)\r",
       "remote: Compressing objects:  58% (92/157)\r",
       "remote: Compressing objects:  59% (93/157)\r",
       "remote: Compressing objects:  60% (95/157)\r",
       "remote: Compressing objects:  61% (96/157)\r",
       "remote: Compressing objects:  62% (98/157)\r",
       "remote: Compressing objects:  63% (99/157)\r",
       "remote: Compressing objects:  64% (101/157)\r",
       "remote: Compressing objects:  65% (103/157)\r",
       "remote: Compressing objects:  66% (104/157)\r",
       "remote: Compressing objects:  67% (106/157)\r",
       "remote: Compressing objects:  68% (107/157)\r",
       "remote: Compressing objects:  69% (109/157)\r",
       "remote: Compressing objects:  70% (110/157)\r",
       "remote: Compressing objects:  71% (112/157)\r",
       "remote: Compressing objects:  72% (114/157)\r",
       "remote: Compressing objects:  73% (115/157)\r",
       "remote: Compressing objects:  74% (117/157)\r",
       "remote: Compressing objects:  75% (118/157)\r",
       "remote: Compressing objects:  76% (120/157)\r",
       "remote: Compressing objects:  77% (121/157)\r",
       "remote: Compressing objects:  78% (123/157)\r",
       "remote: Compressing objects:  79% (125/157)\r",
       "remote: Compressing objects:  80% (126/157)\r",
       "remote: Compressing objects:  81% (128/157)\r",
       "remote: Compressing objects:  82% (129/157)\r",
       "remote: Compressing objects:  83% (131/157)\r",
       "remote: Compressing objects:  84% (132/157)\r",
       "remote: Compressing objects:  85% (134/157)\r",
       "remote: Compressing objects:  86% (136/157)\r",
       "remote: Compressing objects:  87% (137/157)\r",
       "remote: Compressing objects:  88% (139/157)\r",
       "remote: Compressing objects:  89% (140/157)\r",
       "remote: Compressing objects:  90% (142/157)\r",
       "remote: Compressing objects:  91% (143/157)\r",
       "remote: Compressing objects:  92% (145/157)\r",
       "remote: Compressing objects:  93% (147/157)\r",
       "remote: Compressing objects:  94% (148/157)\r",
       "remote: Compressing objects:  95% (150/157)\r",
       "remote: Compressing objects:  96% (151/157)\r",
       "remote: Compressing objects:  97% (153/157)\r",
       "remote: Compressing objects:  98% (154/157)\r",
       "remote: Compressing objects:  99% (156/157)\r",
       "remote: Compressing objects: 100% (157/157)\r",
       "remote: Compressing objects: 100% (157/157), done.\r\n",
       "Receiving objects:   0% (1/914)   \r",
       "Receiving objects:   1% (10/914)   \r",
       "Receiving objects:   2% (19/914)   \r",
       "Receiving objects:   3% (28/914)   \r",
       "Receiving objects:   4% (37/914)   \r",
       "Receiving objects:   5% (46/914)   \r",
       "Receiving objects:   6% (55/914)   \r",
       "Receiving objects:   7% (64/914)   \r",
       "Receiving objects:   8% (74/914)   \r",
       "Receiving objects:   9% (83/914)   \r",
       "Receiving objects:   9% (91/914), 10.03 MiB | 10.03 MiB/s   \r",
       "Receiving objects:  10% (92/914), 10.03 MiB | 10.03 MiB/s   \r",
       "Receiving objects:  10% (92/914), 22.22 MiB | 11.11 MiB/s   \r",
       "Receiving objects:  10% (93/914), 36.13 MiB | 11.96 MiB/s   \r",
       "Receiving objects:  10% (94/914), 52.88 MiB | 13.15 MiB/s   \r",
       "Receiving objects:  11% (101/914), 60.56 MiB | 13.40 MiB/s   \r",
       "Receiving objects:  12% (110/914), 60.56 MiB | 13.40 MiB/s   \r",
       "Receiving objects:  13% (119/914), 60.56 MiB | 13.40 MiB/s   \r",
       "Receiving objects:  14% (128/914), 60.56 MiB | 13.40 MiB/s   \r",
       "Receiving objects:  15% (138/914), 60.56 MiB | 13.40 MiB/s   \r",
       "Receiving objects:  16% (147/914), 60.56 MiB | 13.40 MiB/s   \r",
       "Receiving objects:  17% (156/914), 60.56 MiB | 13.40 MiB/s   \r",
       "Receiving objects:  18% (165/914), 60.56 MiB | 13.40 MiB/s   \r",
       "Receiving objects:  19% (174/914), 60.56 MiB | 13.40 MiB/s   \r",
       "Receiving objects:  20% (183/914), 60.56 MiB | 13.40 MiB/s   \r",
       "Receiving objects:  21% (192/914), 60.56 MiB | 13.40 MiB/s   \r",
       "Receiving objects:  22% (202/914), 60.56 MiB | 13.40 MiB/s   \r",
       "Receiving objects:  23% (211/914), 60.56 MiB | 13.40 MiB/s   \r",
       "Receiving objects:  24% (220/914), 60.56 MiB | 13.40 MiB/s   \r",
       "Receiving objects:  25% (229/914), 60.56 MiB | 13.40 MiB/s   \r",
       "Receiving objects:  26% (238/914), 60.56 MiB | 13.40 MiB/s   \r",
       "Receiving objects:  27% (247/914), 60.56 MiB | 13.40 MiB/s   \r",
       "Receiving objects:  28% (256/914), 60.56 MiB | 13.40 MiB/s   \r",
       "Receiving objects:  29% (266/914), 60.56 MiB | 13.40 MiB/s   \r",
       "Receiving objects:  30% (275/914), 60.56 MiB | 13.40 MiB/s   \r",
       "Receiving objects:  31% (284/914), 60.56 MiB | 13.40 MiB/s   \r",
       "Receiving objects:  32% (293/914), 60.56 MiB | 13.40 MiB/s   \r",
       "Receiving objects:  33% (302/914), 60.56 MiB | 13.40 MiB/s   \r",
       "Receiving objects:  34% (311/914), 60.56 MiB | 13.40 MiB/s   \r",
       "Receiving objects:  35% (320/914), 60.56 MiB | 13.40 MiB/s   \r",
       "Receiving objects:  36% (330/914), 60.56 MiB | 13.40 MiB/s   \r",
       "Receiving objects:  37% (339/914), 60.56 MiB | 13.40 MiB/s   \r",
       "Receiving objects:  38% (348/914), 60.56 MiB | 13.40 MiB/s   \r",
       "Receiving objects:  39% (357/914), 60.56 MiB | 13.40 MiB/s   \r",
       "Receiving objects:  40% (366/914), 60.56 MiB | 13.40 MiB/s   \r",
       "Receiving objects:  41% (375/914), 60.56 MiB | 13.40 MiB/s   \r",
       "Receiving objects:  42% (384/914), 60.56 MiB | 13.40 MiB/s   \r",
       "Receiving objects:  43% (394/914), 60.56 MiB | 13.40 MiB/s   \r",
       "Receiving objects:  44% (403/914), 60.56 MiB | 13.40 MiB/s   \r",
       "Receiving objects:  45% (412/914), 60.56 MiB | 13.40 MiB/s   \r",
       "Receiving objects:  46% (421/914), 60.56 MiB | 13.40 MiB/s   \r",
       "Receiving objects:  47% (430/914), 60.56 MiB | 13.40 MiB/s   \r",
       "Receiving objects:  47% (438/914), 60.56 MiB | 13.40 MiB/s   \r",
       "Receiving objects:  48% (439/914), 60.56 MiB | 13.40 MiB/s   \r",
       "Receiving objects:  49% (448/914), 67.50 MiB | 14.03 MiB/s   \r",
       "Receiving objects:  50% (457/914), 67.50 MiB | 14.03 MiB/s   \r",
       "Receiving objects:  51% (467/914), 67.50 MiB | 14.03 MiB/s   \r",
       "Receiving objects:  52% (476/914), 67.50 MiB | 14.03 MiB/s   \r",
       "Receiving objects:  53% (485/914), 67.50 MiB | 14.03 MiB/s   \r",
       "Receiving objects:  54% (494/914), 67.50 MiB | 14.03 MiB/s   \r",
       "Receiving objects:  55% (503/914), 67.50 MiB | 14.03 MiB/s   \r",
       "Receiving objects:  56% (512/914), 67.50 MiB | 14.03 MiB/s   \r",
       "Receiving objects:  57% (521/914), 67.50 MiB | 14.03 MiB/s   \r",
       "Receiving objects:  58% (531/914), 67.50 MiB | 14.03 MiB/s   \r",
       "Receiving objects:  59% (540/914), 72.87 MiB | 13.90 MiB/s   \r",
       "Receiving objects:  60% (549/914), 72.87 MiB | 13.90 MiB/s   \r",
       "Receiving objects:  61% (558/914), 72.87 MiB | 13.90 MiB/s   \r",
       "Receiving objects:  62% (567/914), 72.87 MiB | 13.90 MiB/s   \r",
       "Receiving objects:  63% (576/914), 72.87 MiB | 13.90 MiB/s   \r",
       "Receiving objects:  64% (585/914), 72.87 MiB | 13.90 MiB/s   \r",
       "Receiving objects:  65% (595/914), 72.87 MiB | 13.90 MiB/s   \r",
       "Receiving objects:  66% (604/914), 72.87 MiB | 13.90 MiB/s   \r",
       "Receiving objects:  67% (613/914), 72.87 MiB | 13.90 MiB/s   \r",
       "Receiving objects:  68% (622/914), 72.87 MiB | 13.90 MiB/s   \r",
       "Receiving objects:  69% (631/914), 72.87 MiB | 13.90 MiB/s   \r",
       "Receiving objects:  70% (640/914), 72.87 MiB | 13.90 MiB/s   \r",
       "Receiving objects:  71% (649/914), 72.87 MiB | 13.90 MiB/s   \r",
       "Receiving objects:  72% (659/914), 72.87 MiB | 13.90 MiB/s   \r",
       "Receiving objects:  72% (659/914), 79.28 MiB | 14.09 MiB/s   \r",
       "Receiving objects:  73% (668/914), 82.43 MiB | 13.32 MiB/s   \r",
       "Receiving objects:  73% (676/914), 86.47 MiB | 12.97 MiB/s   \r",
       "Receiving objects:  73% (676/914), 99.01 MiB | 12.18 MiB/s   \r",
       "Receiving objects:  74% (677/914), 99.01 MiB | 12.18 MiB/s   \r",
       "Receiving objects:  75% (686/914), 99.01 MiB | 12.18 MiB/s   \r",
       "Receiving objects:  76% (695/914), 99.01 MiB | 12.18 MiB/s   \r",
       "Receiving objects:  77% (704/914), 99.01 MiB | 12.18 MiB/s   \r",
       "Receiving objects:  78% (713/914), 99.01 MiB | 12.18 MiB/s   \r",
       "Receiving objects:  79% (723/914), 99.01 MiB | 12.18 MiB/s   \r",
       "Receiving objects:  80% (732/914), 99.01 MiB | 12.18 MiB/s   \r",
       "Receiving objects:  81% (741/914), 99.01 MiB | 12.18 MiB/s   \r",
       "Receiving objects:  81% (742/914), 117.88 MiB | 12.74 MiB/s   \r",
       "Receiving objects:  82% (750/914), 117.88 MiB | 12.74 MiB/s   \r",
       "Receiving objects:  83% (759/914), 117.88 MiB | 12.74 MiB/s   \r",
       "Receiving objects:  84% (768/914), 117.88 MiB | 12.74 MiB/s   \r",
       "Receiving objects:  84% (771/914), 133.44 MiB | 13.46 MiB/s   \r",
       "Receiving objects:  85% (777/914), 133.44 MiB | 13.46 MiB/s   \r",
       "Receiving objects:  86% (787/914), 133.44 MiB | 13.46 MiB/s   \r",
       "Receiving objects:  87% (796/914), 138.97 MiB | 13.27 MiB/s   \r",
       "Receiving objects:  88% (805/914), 138.97 MiB | 13.27 MiB/s   \r",
       "Receiving objects:  89% (814/914), 138.97 MiB | 13.27 MiB/s   \r",
       "Receiving objects:  90% (823/914), 138.97 MiB | 13.27 MiB/s   \r",
       "Receiving objects:  91% (832/914), 138.97 MiB | 13.27 MiB/s   \r",
       "Receiving objects:  92% (841/914), 138.97 MiB | 13.27 MiB/s   \r",
       "Receiving objects:  93% (851/914), 138.97 MiB | 13.27 MiB/s   \r",
       "Receiving objects:  94% (860/914), 138.97 MiB | 13.27 MiB/s   \r",
       "remote: Total 914 (delta 107), reused 201 (delta 77), pack-reused 680\r\n",
       "Receiving objects:  95% (869/914), 138.97 MiB | 13.27 MiB/s   \r",
       "Receiving objects:  96% (878/914), 138.97 MiB | 13.27 MiB/s   \r",
       "Receiving objects:  97% (887/914), 138.97 MiB | 13.27 MiB/s   \r",
       "Receiving objects:  98% (896/914), 138.97 MiB | 13.27 MiB/s   \r",
       "Receiving objects:  99% (905/914), 138.97 MiB | 13.27 MiB/s   \r",
       "Receiving objects: 100% (914/914), 138.97 MiB | 13.27 MiB/s   \r",
       "Receiving objects: 100% (914/914), 143.71 MiB | 13.13 MiB/s, done.\r\n",
       "Resolving deltas:   0% (0/502)   \r",
       "Resolving deltas:   2% (15/502)   \r",
       "Resolving deltas:   4% (22/502)   \r",
       "Resolving deltas:   5% (26/502)   \r",
       "Resolving deltas:   6% (35/502)   \r",
       "Resolving deltas:   7% (37/502)   \r",
       "Resolving deltas:   9% (46/502)   \r",
       "Resolving deltas:  10% (54/502)   \r",
       "Resolving deltas:  12% (62/502)   \r",
       "Resolving deltas:  13% (70/502)   \r",
       "Resolving deltas:  14% (72/502)   \r",
       "Resolving deltas:  15% (76/502)   \r",
       "Resolving deltas:  16% (83/502)   \r",
       "Resolving deltas:  20% (101/502)   \r",
       "Resolving deltas:  24% (125/502)   \r",
       "Resolving deltas:  29% (148/502)   \r",
       "Resolving deltas:  30% (151/502)   \r",
       "Resolving deltas:  34% (173/502)   \r",
       "Resolving deltas:  35% (177/502)   \r",
       "Resolving deltas:  36% (181/502)   \r",
       "Resolving deltas:  37% (186/502)   \r",
       "Resolving deltas:  38% (194/502)   \r",
       "Resolving deltas:  39% (197/502)   \r",
       "Resolving deltas:  40% (201/502)   \r",
       "Resolving deltas:  41% (209/502)   \r",
       "Resolving deltas:  43% (220/502)   \r",
       "Resolving deltas:  44% (225/502)   \r",
       "Resolving deltas:  45% (228/502)   \r",
       "Resolving deltas:  46% (234/502)   \r",
       "Resolving deltas:  47% (240/502)   \r",
       "Resolving deltas:  48% (242/502)   \r",
       "Resolving deltas:  49% (250/502)   \r",
       "Resolving deltas:  50% (253/502)   \r",
       "Resolving deltas:  51% (257/502)   \r",
       "Resolving deltas:  53% (267/502)   \r",
       "Resolving deltas:  54% (272/502)   \r",
       "Resolving deltas:  55% (278/502)   \r",
       "Resolving deltas:  57% (289/502)   \r",
       "Resolving deltas:  59% (301/502)   \r",
       "Resolving deltas:  60% (302/502)   \r",
       "Resolving deltas:  61% (308/502)   \r",
       "Resolving deltas:  62% (316/502)   \r",
       "Resolving deltas:  65% (329/502)   \r",
       "Resolving deltas:  68% (343/502)   \r",
       "Resolving deltas:  73% (368/502)   \r",
       "Resolving deltas:  74% (372/502)   \r",
       "Resolving deltas:  75% (381/502)   \r",
       "Resolving deltas:  76% (386/502)   \r",
       "Resolving deltas:  77% (389/502)   \r",
       "Resolving deltas:  78% (394/502)   \r",
       "Resolving deltas:  83% (418/502)   \r",
       "Resolving deltas:  84% (423/502)   \r",
       "Resolving deltas:  85% (427/502)   \r",
       "Resolving deltas:  86% (432/502)   \r",
       "Resolving deltas:  87% (439/502)   \r",
       "Resolving deltas:  88% (445/502)   \r",
       "Resolving deltas:  89% (447/502)   \r",
       "Resolving deltas:  90% (456/502)   \r",
       "Resolving deltas:  91% (461/502)   \r",
       "Resolving deltas:  93% (468/502)   \r",
       "Resolving deltas:  95% (478/502)   \r",
       "Resolving deltas:  96% (482/502)   \r",
       "Resolving deltas:  97% (491/502)   \r",
       "Resolving deltas:  98% (492/502)   \r",
       "Resolving deltas:  99% (497/502)   \r",
       "Resolving deltas: 100% (502/502)   \r",
       "Resolving deltas: 100% (502/502), done.\r\n",
       "make re graph_generator\r\n",
       "make clean graph_generator\r\n",
       "rm -f .o files\r\n",
       "make fclean graph_generator\r\n",
       "rm -f .o files\r\n",
       "rm -f libft.a\r\n",
       "rm -f ft_printf\r\n",
       "make libft.a\r\n",
       "ar: creating libft.a\r\n",
       "make graph_generator\r\n",
       "mkdir: cannot create directory ‘graphsMapReduce/data’: File exists\r\n",
       "</div>"
      ]
     },
     "metadata": {
      "application/vnd.databricks.v1+output": {
       "addedWidgets": {},
       "arguments": {},
       "data": "<div class=\"ansiout\">Cloning into &#39;graphsMapReduce&#39;...\r\nremote: Enumerating objects: 234, done.\r\nremote: Counting objects:   0% (1/234)\rremote: Counting objects:   1% (3/234)\rremote: Counting objects:   2% (5/234)\rremote: Counting objects:   3% (8/234)\rremote: Counting objects:   4% (10/234)\rremote: Counting objects:   5% (12/234)\rremote: Counting objects:   6% (15/234)\rremote: Counting objects:   7% (17/234)\rremote: Counting objects:   8% (19/234)\rremote: Counting objects:   9% (22/234)\rremote: Counting objects:  10% (24/234)\rremote: Counting objects:  11% (26/234)\rremote: Counting objects:  12% (29/234)\rremote: Counting objects:  13% (31/234)\rremote: Counting objects:  14% (33/234)\rremote: Counting objects:  15% (36/234)\rremote: Counting objects:  16% (38/234)\rremote: Counting objects:  17% (40/234)\rremote: Counting objects:  18% (43/234)\rremote: Counting objects:  19% (45/234)\rremote: Counting objects:  20% (47/234)\rremote: Counting objects:  21% (50/234)\rremote: Counting objects:  22% (52/234)\rremote: Counting objects:  23% (54/234)\rremote: Counting objects:  24% (57/234)\rremote: Counting objects:  25% (59/234)\rremote: Counting objects:  26% (61/234)\rremote: Counting objects:  27% (64/234)\rremote: Counting objects:  28% (66/234)\rremote: Counting objects:  29% (68/234)\rremote: Counting objects:  30% (71/234)\rremote: Counting objects:  31% (73/234)\rremote: Counting objects:  32% (75/234)\rremote: Counting objects:  33% (78/234)\rremote: Counting objects:  34% (80/234)\rremote: Counting objects:  35% (82/234)\rremote: Counting objects:  36% (85/234)\rremote: Counting objects:  37% (87/234)\rremote: Counting objects:  38% (89/234)\rremote: Counting objects:  39% (92/234)\rremote: Counting objects:  40% (94/234)\rremote: Counting objects:  41% (96/234)\rremote: Counting objects:  42% (99/234)\rremote: Counting objects:  43% (101/234)\rremote: Counting objects:  44% (103/234)\rremote: Counting objects:  45% (106/234)\rremote: Counting objects:  46% (108/234)\rremote: Counting objects:  47% (110/234)\rremote: Counting objects:  48% (113/234)\rremote: Counting objects:  49% (115/234)\rremote: Counting objects:  50% (117/234)\rremote: Counting objects:  51% (120/234)\rremote: Counting objects:  52% (122/234)\rremote: Counting objects:  53% (125/234)\rremote: Counting objects:  54% (127/234)\rremote: Counting objects:  55% (129/234)\rremote: Counting objects:  56% (132/234)\rremote: Counting objects:  57% (134/234)\rremote: Counting objects:  58% (136/234)\rremote: Counting objects:  59% (139/234)\rremote: Counting objects:  60% (141/234)\rremote: Counting objects:  61% (143/234)\rremote: Counting objects:  62% (146/234)\rremote: Counting objects:  63% (148/234)\rremote: Counting objects:  64% (150/234)\rremote: Counting objects:  65% (153/234)\rremote: Counting objects:  66% (155/234)\rremote: Counting objects:  67% (157/234)\rremote: Counting objects:  68% (160/234)\rremote: Counting objects:  69% (162/234)\rremote: Counting objects:  70% (164/234)\rremote: Counting objects:  71% (167/234)\rremote: Counting objects:  72% (169/234)\rremote: Counting objects:  73% (171/234)\rremote: Counting objects:  74% (174/234)\rremote: Counting objects:  75% (176/234)\rremote: Counting objects:  76% (178/234)\rremote: Counting objects:  77% (181/234)\rremote: Counting objects:  78% (183/234)\rremote: Counting objects:  79% (185/234)\rremote: Counting objects:  80% (188/234)\rremote: Counting objects:  81% (190/234)\rremote: Counting objects:  82% (192/234)\rremote: Counting objects:  83% (195/234)\rremote: Counting objects:  84% (197/234)\rremote: Counting objects:  85% (199/234)\rremote: Counting objects:  86% (202/234)\rremote: Counting objects:  87% (204/234)\rremote: Counting objects:  88% (206/234)\rremote: Counting objects:  89% (209/234)\rremote: Counting objects:  90% (211/234)\rremote: Counting objects:  91% (213/234)\rremote: Counting objects:  92% (216/234)\rremote: Counting objects:  93% (218/234)\rremote: Counting objects:  94% (220/234)\rremote: Counting objects:  95% (223/234)\rremote: Counting objects:  96% (225/234)\rremote: Counting objects:  97% (227/234)\rremote: Counting objects:  98% (230/234)\rremote: Counting objects:  99% (232/234)\rremote: Counting objects: 100% (234/234)\rremote: Counting objects: 100% (234/234), done.\r\nremote: Compressing objects:   0% (1/157)\rremote: Compressing objects:   1% (2/157)\rremote: Compressing objects:   1% (3/157)\rremote: Compressing objects:   2% (4/157)\rremote: Compressing objects:   3% (5/157)\rremote: Compressing objects:   4% (7/157)\rremote: Compressing objects:   5% (8/157)\rremote: Compressing objects:   6% (10/157)\rremote: Compressing objects:   7% (11/157)\rremote: Compressing objects:   8% (13/157)\rremote: Compressing objects:   9% (15/157)\rremote: Compressing objects:  10% (16/157)\rremote: Compressing objects:  11% (18/157)\rremote: Compressing objects:  12% (19/157)\rremote: Compressing objects:  13% (21/157)\rremote: Compressing objects:  14% (22/157)\rremote: Compressing objects:  15% (24/157)\rremote: Compressing objects:  16% (26/157)\rremote: Compressing objects:  17% (27/157)\rremote: Compressing objects:  18% (29/157)\rremote: Compressing objects:  19% (30/157)\rremote: Compressing objects:  20% (32/157)\rremote: Compressing objects:  21% (33/157)\rremote: Compressing objects:  22% (35/157)\rremote: Compressing objects:  23% (37/157)\rremote: Compressing objects:  24% (38/157)\rremote: Compressing objects:  25% (40/157)\rremote: Compressing objects:  26% (41/157)\rremote: Compressing objects:  27% (43/157)\rremote: Compressing objects:  28% (44/157)\rremote: Compressing objects:  29% (46/157)\rremote: Compressing objects:  30% (48/157)\rremote: Compressing objects:  31% (49/157)\rremote: Compressing objects:  32% (51/157)\rremote: Compressing objects:  33% (52/157)\rremote: Compressing objects:  34% (54/157)\rremote: Compressing objects:  35% (55/157)\rremote: Compressing objects:  36% (57/157)\rremote: Compressing objects:  37% (59/157)\rremote: Compressing objects:  38% (60/157)\rremote: Compressing objects:  39% (62/157)\rremote: Compressing objects:  40% (63/157)\rremote: Compressing objects:  41% (65/157)\rremote: Compressing objects:  42% (66/157)\rremote: Compressing objects:  43% (68/157)\rremote: Compressing objects:  44% (70/157)\rremote: Compressing objects:  45% (71/157)\rremote: Compressing objects:  46% (73/157)\rremote: Compressing objects:  47% (74/157)\rremote: Compressing objects:  48% (76/157)\rremote: Compressing objects:  49% (77/157)\rremote: Compressing objects:  50% (79/157)\rremote: Compressing objects:  51% (81/157)\rremote: Compressing objects:  52% (82/157)\rremote: Compressing objects:  53% (84/157)\rremote: Compressing objects:  54% (85/157)\rremote: Compressing objects:  55% (87/157)\rremote: Compressing objects:  56% (88/157)\rremote: Compressing objects:  57% (90/157)\rremote: Compressing objects:  58% (92/157)\rremote: Compressing objects:  59% (93/157)\rremote: Compressing objects:  60% (95/157)\rremote: Compressing objects:  61% (96/157)\rremote: Compressing objects:  62% (98/157)\rremote: Compressing objects:  63% (99/157)\rremote: Compressing objects:  64% (101/157)\rremote: Compressing objects:  65% (103/157)\rremote: Compressing objects:  66% (104/157)\rremote: Compressing objects:  67% (106/157)\rremote: Compressing objects:  68% (107/157)\rremote: Compressing objects:  69% (109/157)\rremote: Compressing objects:  70% (110/157)\rremote: Compressing objects:  71% (112/157)\rremote: Compressing objects:  72% (114/157)\rremote: Compressing objects:  73% (115/157)\rremote: Compressing objects:  74% (117/157)\rremote: Compressing objects:  75% (118/157)\rremote: Compressing objects:  76% (120/157)\rremote: Compressing objects:  77% (121/157)\rremote: Compressing objects:  78% (123/157)\rremote: Compressing objects:  79% (125/157)\rremote: Compressing objects:  80% (126/157)\rremote: Compressing objects:  81% (128/157)\rremote: Compressing objects:  82% (129/157)\rremote: Compressing objects:  83% (131/157)\rremote: Compressing objects:  84% (132/157)\rremote: Compressing objects:  85% (134/157)\rremote: Compressing objects:  86% (136/157)\rremote: Compressing objects:  87% (137/157)\rremote: Compressing objects:  88% (139/157)\rremote: Compressing objects:  89% (140/157)\rremote: Compressing objects:  90% (142/157)\rremote: Compressing objects:  91% (143/157)\rremote: Compressing objects:  92% (145/157)\rremote: Compressing objects:  93% (147/157)\rremote: Compressing objects:  94% (148/157)\rremote: Compressing objects:  95% (150/157)\rremote: Compressing objects:  96% (151/157)\rremote: Compressing objects:  97% (153/157)\rremote: Compressing objects:  98% (154/157)\rremote: Compressing objects:  99% (156/157)\rremote: Compressing objects: 100% (157/157)\rremote: Compressing objects: 100% (157/157), done.\r\nReceiving objects:   0% (1/914)   \rReceiving objects:   1% (10/914)   \rReceiving objects:   2% (19/914)   \rReceiving objects:   3% (28/914)   \rReceiving objects:   4% (37/914)   \rReceiving objects:   5% (46/914)   \rReceiving objects:   6% (55/914)   \rReceiving objects:   7% (64/914)   \rReceiving objects:   8% (74/914)   \rReceiving objects:   9% (83/914)   \rReceiving objects:   9% (91/914), 10.03 MiB | 10.03 MiB/s   \rReceiving objects:  10% (92/914), 10.03 MiB | 10.03 MiB/s   \rReceiving objects:  10% (92/914), 22.22 MiB | 11.11 MiB/s   \rReceiving objects:  10% (93/914), 36.13 MiB | 11.96 MiB/s   \rReceiving objects:  10% (94/914), 52.88 MiB | 13.15 MiB/s   \rReceiving objects:  11% (101/914), 60.56 MiB | 13.40 MiB/s   \rReceiving objects:  12% (110/914), 60.56 MiB | 13.40 MiB/s   \rReceiving objects:  13% (119/914), 60.56 MiB | 13.40 MiB/s   \rReceiving objects:  14% (128/914), 60.56 MiB | 13.40 MiB/s   \rReceiving objects:  15% (138/914), 60.56 MiB | 13.40 MiB/s   \rReceiving objects:  16% (147/914), 60.56 MiB | 13.40 MiB/s   \rReceiving objects:  17% (156/914), 60.56 MiB | 13.40 MiB/s   \rReceiving objects:  18% (165/914), 60.56 MiB | 13.40 MiB/s   \rReceiving objects:  19% (174/914), 60.56 MiB | 13.40 MiB/s   \rReceiving objects:  20% (183/914), 60.56 MiB | 13.40 MiB/s   \rReceiving objects:  21% (192/914), 60.56 MiB | 13.40 MiB/s   \rReceiving objects:  22% (202/914), 60.56 MiB | 13.40 MiB/s   \rReceiving objects:  23% (211/914), 60.56 MiB | 13.40 MiB/s   \rReceiving objects:  24% (220/914), 60.56 MiB | 13.40 MiB/s   \rReceiving objects:  25% (229/914), 60.56 MiB | 13.40 MiB/s   \rReceiving objects:  26% (238/914), 60.56 MiB | 13.40 MiB/s   \rReceiving objects:  27% (247/914), 60.56 MiB | 13.40 MiB/s   \rReceiving objects:  28% (256/914), 60.56 MiB | 13.40 MiB/s   \rReceiving objects:  29% (266/914), 60.56 MiB | 13.40 MiB/s   \rReceiving objects:  30% (275/914), 60.56 MiB | 13.40 MiB/s   \rReceiving objects:  31% (284/914), 60.56 MiB | 13.40 MiB/s   \rReceiving objects:  32% (293/914), 60.56 MiB | 13.40 MiB/s   \rReceiving objects:  33% (302/914), 60.56 MiB | 13.40 MiB/s   \rReceiving objects:  34% (311/914), 60.56 MiB | 13.40 MiB/s   \rReceiving objects:  35% (320/914), 60.56 MiB | 13.40 MiB/s   \rReceiving objects:  36% (330/914), 60.56 MiB | 13.40 MiB/s   \rReceiving objects:  37% (339/914), 60.56 MiB | 13.40 MiB/s   \rReceiving objects:  38% (348/914), 60.56 MiB | 13.40 MiB/s   \rReceiving objects:  39% (357/914), 60.56 MiB | 13.40 MiB/s   \rReceiving objects:  40% (366/914), 60.56 MiB | 13.40 MiB/s   \rReceiving objects:  41% (375/914), 60.56 MiB | 13.40 MiB/s   \rReceiving objects:  42% (384/914), 60.56 MiB | 13.40 MiB/s   \rReceiving objects:  43% (394/914), 60.56 MiB | 13.40 MiB/s   \rReceiving objects:  44% (403/914), 60.56 MiB | 13.40 MiB/s   \rReceiving objects:  45% (412/914), 60.56 MiB | 13.40 MiB/s   \rReceiving objects:  46% (421/914), 60.56 MiB | 13.40 MiB/s   \rReceiving objects:  47% (430/914), 60.56 MiB | 13.40 MiB/s   \rReceiving objects:  47% (438/914), 60.56 MiB | 13.40 MiB/s   \rReceiving objects:  48% (439/914), 60.56 MiB | 13.40 MiB/s   \rReceiving objects:  49% (448/914), 67.50 MiB | 14.03 MiB/s   \rReceiving objects:  50% (457/914), 67.50 MiB | 14.03 MiB/s   \rReceiving objects:  51% (467/914), 67.50 MiB | 14.03 MiB/s   \rReceiving objects:  52% (476/914), 67.50 MiB | 14.03 MiB/s   \rReceiving objects:  53% (485/914), 67.50 MiB | 14.03 MiB/s   \rReceiving objects:  54% (494/914), 67.50 MiB | 14.03 MiB/s   \rReceiving objects:  55% (503/914), 67.50 MiB | 14.03 MiB/s   \rReceiving objects:  56% (512/914), 67.50 MiB | 14.03 MiB/s   \rReceiving objects:  57% (521/914), 67.50 MiB | 14.03 MiB/s   \rReceiving objects:  58% (531/914), 67.50 MiB | 14.03 MiB/s   \rReceiving objects:  59% (540/914), 72.87 MiB | 13.90 MiB/s   \rReceiving objects:  60% (549/914), 72.87 MiB | 13.90 MiB/s   \rReceiving objects:  61% (558/914), 72.87 MiB | 13.90 MiB/s   \rReceiving objects:  62% (567/914), 72.87 MiB | 13.90 MiB/s   \rReceiving objects:  63% (576/914), 72.87 MiB | 13.90 MiB/s   \rReceiving objects:  64% (585/914), 72.87 MiB | 13.90 MiB/s   \rReceiving objects:  65% (595/914), 72.87 MiB | 13.90 MiB/s   \rReceiving objects:  66% (604/914), 72.87 MiB | 13.90 MiB/s   \rReceiving objects:  67% (613/914), 72.87 MiB | 13.90 MiB/s   \rReceiving objects:  68% (622/914), 72.87 MiB | 13.90 MiB/s   \rReceiving objects:  69% (631/914), 72.87 MiB | 13.90 MiB/s   \rReceiving objects:  70% (640/914), 72.87 MiB | 13.90 MiB/s   \rReceiving objects:  71% (649/914), 72.87 MiB | 13.90 MiB/s   \rReceiving objects:  72% (659/914), 72.87 MiB | 13.90 MiB/s   \rReceiving objects:  72% (659/914), 79.28 MiB | 14.09 MiB/s   \rReceiving objects:  73% (668/914), 82.43 MiB | 13.32 MiB/s   \rReceiving objects:  73% (676/914), 86.47 MiB | 12.97 MiB/s   \rReceiving objects:  73% (676/914), 99.01 MiB | 12.18 MiB/s   \rReceiving objects:  74% (677/914), 99.01 MiB | 12.18 MiB/s   \rReceiving objects:  75% (686/914), 99.01 MiB | 12.18 MiB/s   \rReceiving objects:  76% (695/914), 99.01 MiB | 12.18 MiB/s   \rReceiving objects:  77% (704/914), 99.01 MiB | 12.18 MiB/s   \rReceiving objects:  78% (713/914), 99.01 MiB | 12.18 MiB/s   \rReceiving objects:  79% (723/914), 99.01 MiB | 12.18 MiB/s   \rReceiving objects:  80% (732/914), 99.01 MiB | 12.18 MiB/s   \rReceiving objects:  81% (741/914), 99.01 MiB | 12.18 MiB/s   \rReceiving objects:  81% (742/914), 117.88 MiB | 12.74 MiB/s   \rReceiving objects:  82% (750/914), 117.88 MiB | 12.74 MiB/s   \rReceiving objects:  83% (759/914), 117.88 MiB | 12.74 MiB/s   \rReceiving objects:  84% (768/914), 117.88 MiB | 12.74 MiB/s   \rReceiving objects:  84% (771/914), 133.44 MiB | 13.46 MiB/s   \rReceiving objects:  85% (777/914), 133.44 MiB | 13.46 MiB/s   \rReceiving objects:  86% (787/914), 133.44 MiB | 13.46 MiB/s   \rReceiving objects:  87% (796/914), 138.97 MiB | 13.27 MiB/s   \rReceiving objects:  88% (805/914), 138.97 MiB | 13.27 MiB/s   \rReceiving objects:  89% (814/914), 138.97 MiB | 13.27 MiB/s   \rReceiving objects:  90% (823/914), 138.97 MiB | 13.27 MiB/s   \rReceiving objects:  91% (832/914), 138.97 MiB | 13.27 MiB/s   \rReceiving objects:  92% (841/914), 138.97 MiB | 13.27 MiB/s   \rReceiving objects:  93% (851/914), 138.97 MiB | 13.27 MiB/s   \rReceiving objects:  94% (860/914), 138.97 MiB | 13.27 MiB/s   \rremote: Total 914 (delta 107), reused 201 (delta 77), pack-reused 680\r\nReceiving objects:  95% (869/914), 138.97 MiB | 13.27 MiB/s   \rReceiving objects:  96% (878/914), 138.97 MiB | 13.27 MiB/s   \rReceiving objects:  97% (887/914), 138.97 MiB | 13.27 MiB/s   \rReceiving objects:  98% (896/914), 138.97 MiB | 13.27 MiB/s   \rReceiving objects:  99% (905/914), 138.97 MiB | 13.27 MiB/s   \rReceiving objects: 100% (914/914), 138.97 MiB | 13.27 MiB/s   \rReceiving objects: 100% (914/914), 143.71 MiB | 13.13 MiB/s, done.\r\nResolving deltas:   0% (0/502)   \rResolving deltas:   2% (15/502)   \rResolving deltas:   4% (22/502)   \rResolving deltas:   5% (26/502)   \rResolving deltas:   6% (35/502)   \rResolving deltas:   7% (37/502)   \rResolving deltas:   9% (46/502)   \rResolving deltas:  10% (54/502)   \rResolving deltas:  12% (62/502)   \rResolving deltas:  13% (70/502)   \rResolving deltas:  14% (72/502)   \rResolving deltas:  15% (76/502)   \rResolving deltas:  16% (83/502)   \rResolving deltas:  20% (101/502)   \rResolving deltas:  24% (125/502)   \rResolving deltas:  29% (148/502)   \rResolving deltas:  30% (151/502)   \rResolving deltas:  34% (173/502)   \rResolving deltas:  35% (177/502)   \rResolving deltas:  36% (181/502)   \rResolving deltas:  37% (186/502)   \rResolving deltas:  38% (194/502)   \rResolving deltas:  39% (197/502)   \rResolving deltas:  40% (201/502)   \rResolving deltas:  41% (209/502)   \rResolving deltas:  43% (220/502)   \rResolving deltas:  44% (225/502)   \rResolving deltas:  45% (228/502)   \rResolving deltas:  46% (234/502)   \rResolving deltas:  47% (240/502)   \rResolving deltas:  48% (242/502)   \rResolving deltas:  49% (250/502)   \rResolving deltas:  50% (253/502)   \rResolving deltas:  51% (257/502)   \rResolving deltas:  53% (267/502)   \rResolving deltas:  54% (272/502)   \rResolving deltas:  55% (278/502)   \rResolving deltas:  57% (289/502)   \rResolving deltas:  59% (301/502)   \rResolving deltas:  60% (302/502)   \rResolving deltas:  61% (308/502)   \rResolving deltas:  62% (316/502)   \rResolving deltas:  65% (329/502)   \rResolving deltas:  68% (343/502)   \rResolving deltas:  73% (368/502)   \rResolving deltas:  74% (372/502)   \rResolving deltas:  75% (381/502)   \rResolving deltas:  76% (386/502)   \rResolving deltas:  77% (389/502)   \rResolving deltas:  78% (394/502)   \rResolving deltas:  83% (418/502)   \rResolving deltas:  84% (423/502)   \rResolving deltas:  85% (427/502)   \rResolving deltas:  86% (432/502)   \rResolving deltas:  87% (439/502)   \rResolving deltas:  88% (445/502)   \rResolving deltas:  89% (447/502)   \rResolving deltas:  90% (456/502)   \rResolving deltas:  91% (461/502)   \rResolving deltas:  93% (468/502)   \rResolving deltas:  95% (478/502)   \rResolving deltas:  96% (482/502)   \rResolving deltas:  97% (491/502)   \rResolving deltas:  98% (492/502)   \rResolving deltas:  99% (497/502)   \rResolving deltas: 100% (502/502)   \rResolving deltas: 100% (502/502), done.\r\nmake re graph_generator\r\nmake clean graph_generator\r\nrm -f .o files\r\nmake fclean graph_generator\r\nrm -f .o files\r\nrm -f libft.a\r\nrm -f ft_printf\r\nmake libft.a\r\nar: creating libft.a\r\nmake graph_generator\r\nmkdir: cannot create directory ‘graphsMapReduce/data’: File exists\r\n</div>",
       "datasetInfos": [],
       "removedWidgets": [],
       "type": "html"
      }
     },
     "output_type": "display_data"
    }
   ],
   "source": [
    "!git config --global user.email $email\n",
    "!git config --global user.name $username\n",
    "  \n",
    "if os.path.exists(os.path.join(os.getcwd(), \"graphsMapReduce\")):\n",
    "  !cd graphsMapReduce && git pull\n",
    "else:\n",
    "  !git clone $url\n",
    "\n",
    "!cd graphsMapReduce/generator && make re\n",
    "!mkdir graphsMapReduce/data"
   ]
  },
  {
   "cell_type": "code",
   "execution_count": 0,
   "metadata": {
    "application/vnd.databricks.v1+cell": {
     "inputWidgets": {},
     "nuid": "1106be28-85bd-4fe0-bf74-56e8274a76bd",
     "showTitle": false,
     "title": ""
    }
   },
   "outputs": [
    {
     "data": {
      "text/html": [
       "<style scoped>\n",
       "  .ansiout {\n",
       "    display: block;\n",
       "    unicode-bidi: embed;\n",
       "    white-space: pre-wrap;\n",
       "    word-wrap: break-word;\n",
       "    word-break: break-all;\n",
       "    font-family: \"Source Code Pro\", \"Menlo\", monospace;;\n",
       "    font-size: 13px;\n",
       "    color: #555;\n",
       "    margin-left: 4px;\n",
       "    line-height: 19px;\n",
       "  }\n",
       "</style>\n",
       "<div class=\"ansiout\">Start program at Tue Mar 16 09:06:51 2021\r\n",
       "Has parsed user argument\r\n",
       "Has converted user argument to bytes\r\n",
       "Final number of nodes is 71750\r\n",
       "Final number of edges approximation is 358753\r\n",
       "End program at Tue Mar 16 09:06:51 2021\r\n",
       "Wrote 4194312 bytes.\n",
       "Start program at Tue Mar 16 09:06:58 2021\r\n",
       "Has parsed user argument\r\n",
       "Has converted user argument to bytes\r\n",
       "Final number of nodes is 120449\r\n",
       "Final number of edges approximation is 602247\r\n",
       "End program at Tue Mar 16 09:06:59 2021\r\n",
       "Wrote 7340033 bytes.\n",
       "</div>"
      ]
     },
     "metadata": {
      "application/vnd.databricks.v1+output": {
       "addedWidgets": {},
       "arguments": {},
       "data": "<div class=\"ansiout\">Start program at Tue Mar 16 09:06:51 2021\r\nHas parsed user argument\r\nHas converted user argument to bytes\r\nFinal number of nodes is 71750\r\nFinal number of edges approximation is 358753\r\nEnd program at Tue Mar 16 09:06:51 2021\r\nWrote 4194312 bytes.\nStart program at Tue Mar 16 09:06:58 2021\r\nHas parsed user argument\r\nHas converted user argument to bytes\r\nFinal number of nodes is 120449\r\nFinal number of edges approximation is 602247\r\nEnd program at Tue Mar 16 09:06:59 2021\r\nWrote 7340033 bytes.\n</div>",
       "datasetInfos": [],
       "removedWidgets": [],
       "type": "html"
      }
     },
     "output_type": "display_data"
    }
   ],
   "source": [
    "user_inputs = {\n",
    "  \"4M\": 5,\n",
    "  \"7M\": 5\n",
    "}\n",
    "\n",
    "filestore_paths_dict = {}\n",
    "for k, v in user_inputs.items():\n",
    "  \n",
    "  filename = \"graph_\" + k + \".txt\"\n",
    "  rel_filepath = os.path.join(\"..\", \"data\", filename)\n",
    "  abs_filepath = os.path.join(\"graphsMapReduce\", \"data\",filename)\n",
    "  !cd graphsMapReduce/generator && ./graph_generator $k $rel_filepath $v\n",
    "  \n",
    "  filestore_name = \"dbfs:/FileStore/\" + filename\n",
    "  dbutils.fs.rm(filestore_name)\n",
    "  f = open(abs_filepath, \"r\")\n",
    "  string = f.read()\n",
    "  dbutils.fs.put(filestore_name, string)\n",
    "  filestore_paths_dict[(k,v)] = filestore_name\n",
    "  \n",
    "filename = \"toy_dataset.txt\"\n",
    "rel_filepath = os.path.join(\"..\", \"data\", filename)\n",
    "abs_filepath = os.path.join(\"graphsMapReduce\", \"data\",filename)\n",
    "filestore_name = \"dbfs:/FileStore/\" + filename\n",
    "f = open(abs_filepath, \"r\")\n",
    "string = f.read()\n",
    "try:\n",
    "  dbutils.fs.put(filestore_name, string)\n",
    "except:\n",
    "  pass\n",
    "filestore_paths_dict['toy'] = filestore_name"
   ]
  },
  {
   "cell_type": "markdown",
   "metadata": {
    "application/vnd.databricks.v1+cell": {
     "inputWidgets": {},
     "nuid": "6bc6a8ca-ee99-4a19-89d9-60130ff8653c",
     "showTitle": false,
     "title": ""
    },
    "heading_collapsed": true
   },
   "source": [
    "# RDD implementation"
   ]
  },
  {
   "cell_type": "code",
   "execution_count": 0,
   "metadata": {
    "application/vnd.databricks.v1+cell": {
     "inputWidgets": {},
     "nuid": "8bbadf12-e1f3-4216-97cb-94a1c1800d51",
     "showTitle": false,
     "title": ""
    },
    "hidden": true
   },
   "outputs": [
    {
     "data": {
      "text/html": [
       "<style scoped>\n",
       "  .ansiout {\n",
       "    display: block;\n",
       "    unicode-bidi: embed;\n",
       "    white-space: pre-wrap;\n",
       "    word-wrap: break-word;\n",
       "    word-break: break-all;\n",
       "    font-family: \"Source Code Pro\", \"Menlo\", monospace;;\n",
       "    font-size: 13px;\n",
       "    color: #555;\n",
       "    margin-left: 4px;\n",
       "    line-height: 19px;\n",
       "  }\n",
       "</style>\n",
       "<div class=\"ansiout\"></div>"
      ]
     },
     "metadata": {
      "application/vnd.databricks.v1+output": {
       "addedWidgets": {},
       "arguments": {},
       "data": "<div class=\"ansiout\"></div>",
       "datasetInfos": [],
       "removedWidgets": [],
       "type": "html"
      }
     },
     "output_type": "display_data"
    }
   ],
   "source": [
    "def processGraphRDD(filepath):\n",
    "  \n",
    "  def reduce_ccf(x):\n",
    "    key = x[0]\n",
    "    values = x[1]\n",
    "    min_value = values.pop(values.index(min(values)))\n",
    "    ret = []\n",
    "    if min_value < key:\n",
    "      ret.append((key, min_value))\n",
    "      for value in values:\n",
    "        accum.add(1) # là on peu surement add en une fois la taille de la liste\n",
    "        ret.append((value, min_value)) # là on peut surement zip \n",
    "    return (ret)\n",
    "  \n",
    "  \n",
    "  text_file = sc.textFile(filepath)\n",
    "  \n",
    "  text_file = text_file.filter(lambda x: \"#\" not in x)\n",
    "  text_file_split = text_file.map(lambda x: x.split())\n",
    "  input = text_file_split.map(lambda x: (int(x[0]), int(x[1])))\n",
    "\n",
    "  accum = sc.accumulator(1)\n",
    "  while accum.value > 0:\n",
    "\n",
    "    accum.value = 0\n",
    "    print(\"Start loop \", accum.value)\n",
    "\n",
    "    # CCF-Iterate\n",
    "    it_map = input.flatMap(lambda x: ((x[0], x[1]), (x[1], x[0])))\n",
    "#     it_groupby = it_map.groupByKey().mapValues(lambda x: sorted(x))\n",
    "    it_groupby = it_map.groupByKey().mapValues(list)\n",
    "    it_reduce = it_groupby.flatMap(lambda x: reduce_ccf(x))\n",
    "    \n",
    "    # CCF-Dedup\n",
    "    ded_map = it_reduce.map(lambda x: ((x[0], x[1]), None))\n",
    "    ded_groupby = ded_map.groupByKey().mapValues(list)\n",
    "    input = ded_groupby.map(lambda x: (x[0][0], x[0][1]))\n",
    "\n",
    "    viz = input.collect()\n",
    "    print(\"End loop \", accum.value)\n",
    "    print('It groupby: ')\n",
    "    print(it_groupby.take(15))\n",
    "    print('It reduce: ')\n",
    "    print(it_reduce.take(15))\n",
    "    #print('It input: ')\n",
    "    \n",
    "    print('Final ded output: ')\n",
    "    print(input.take(15))\n",
    "\n",
    "#     print('IT groupby: ')\n",
    "#     print(it_groupby.take(15))\n",
    "#     print('IT reduce: ')\n",
    "#     print(it_reduce.take(15))\n",
    "    print('-------------')\n",
    "\n",
    "  print(\"Processed file\")\n",
    "#   print(viz)"
   ]
  },
  {
   "cell_type": "code",
   "execution_count": 0,
   "metadata": {
    "application/vnd.databricks.v1+cell": {
     "inputWidgets": {},
     "nuid": "fedc0e2f-f256-4074-a8e7-e315168bca97",
     "showTitle": false,
     "title": ""
    },
    "hidden": true
   },
   "outputs": [
    {
     "data": {
      "text/html": [
       "<style scoped>\n",
       "  .ansiout {\n",
       "    display: block;\n",
       "    unicode-bidi: embed;\n",
       "    white-space: pre-wrap;\n",
       "    word-wrap: break-word;\n",
       "    word-break: break-all;\n",
       "    font-family: \"Source Code Pro\", \"Menlo\", monospace;;\n",
       "    font-size: 13px;\n",
       "    color: #555;\n",
       "    margin-left: 4px;\n",
       "    line-height: 19px;\n",
       "  }\n",
       "</style>"
      ]
     },
     "metadata": {
      "application/vnd.databricks.v1+output": {
       "arguments": {},
       "data": "",
       "errorSummary": "",
       "type": "ipynbError"
      }
     },
     "output_type": "display_data"
    }
   ],
   "source": [
    "filestore_name = filestore_paths_dict['toy']\n",
    "processGraphRDD(filestore_name)"
   ]
  },
  {
   "cell_type": "code",
   "execution_count": 0,
   "metadata": {
    "application/vnd.databricks.v1+cell": {
     "inputWidgets": {},
     "nuid": "cf5a511b-31a4-4407-9065-d7895982b921",
     "showTitle": false,
     "title": ""
    },
    "hidden": true
   },
   "outputs": [],
   "source": [
    "!ls graphsMapReduce/data"
   ]
  },
  {
   "cell_type": "code",
   "execution_count": 0,
   "metadata": {
    "application/vnd.databricks.v1+cell": {
     "inputWidgets": {},
     "nuid": "f9762236-f74e-4430-8830-3661338a6560",
     "showTitle": false,
     "title": ""
    },
    "hidden": true
   },
   "outputs": [],
   "source": [
    "event_dir = str(subprocess.check_output(['ls', 'eventlogs']))\n",
    "event_dir = int(event_dir.split(\"\\'\")[1][:-2])\n",
    "full_old_path = os.path.join('eventlogs', str(event_dir), 'eventlog')\n",
    "full_new_path = os.path.join('eventlogs', str(event_dir), 'eventlog.json')"
   ]
  },
  {
   "cell_type": "code",
   "execution_count": 0,
   "metadata": {
    "application/vnd.databricks.v1+cell": {
     "inputWidgets": {},
     "nuid": "67c50457-d092-457f-8c79-0363e60831c2",
     "showTitle": false,
     "title": ""
    },
    "hidden": true
   },
   "outputs": [],
   "source": [
    "!cd graphsMapReduce && git pull"
   ]
  },
  {
   "cell_type": "code",
   "execution_count": 0,
   "metadata": {
    "application/vnd.databricks.v1+cell": {
     "inputWidgets": {},
     "nuid": "faf6e2c1-31bb-45a8-978f-53a62a5a0ec9",
     "showTitle": false,
     "title": ""
    },
    "hidden": true
   },
   "outputs": [],
   "source": [
    "comment = \"\"\n",
    "!pip install logzero\n",
    "!mv $full_old_path $full_new_path\n",
    "!cd graphsMapReduce/src && python3 main.py -e $event_dir #-c $comment"
   ]
  },
  {
   "cell_type": "code",
   "execution_count": 0,
   "metadata": {
    "application/vnd.databricks.v1+cell": {
     "inputWidgets": {},
     "nuid": "b42878bf-7ce4-4181-8248-79676c889ef0",
     "showTitle": false,
     "title": ""
    },
    "hidden": true
   },
   "outputs": [],
   "source": [
    "!cd graphsMapReduce/generator && make fclean\n",
    "!cd graphsMapReduce && git add -A\n",
    "!cd graphsMapReduce && git config --global user.email \"sparkistan@gmail.com\"\n",
    "!cd graphsMapReduce && git config --global user.name \"sparkistan\"\n",
    "!cd graphsMapReduce && git commit -m \"Added logs\"\n",
    "!cd graphsMapReduce && git push $url"
   ]
  },
  {
   "cell_type": "markdown",
   "metadata": {
    "application/vnd.databricks.v1+cell": {
     "inputWidgets": {},
     "nuid": "7c2cf516-22b6-4bf2-8063-a38a830a66ed",
     "showTitle": false,
     "title": ""
    }
   },
   "source": [
    "# DataFrame implementation"
   ]
  },
  {
   "cell_type": "code",
   "execution_count": 0,
   "metadata": {
    "application/vnd.databricks.v1+cell": {
     "inputWidgets": {},
     "nuid": "c20f7f9c-4aff-4f10-9435-f94a858828b7",
     "showTitle": false,
     "title": ""
    }
   },
   "outputs": [
    {
     "data": {
      "text/html": [
       "<style scoped>\n",
       "  .ansiout {\n",
       "    display: block;\n",
       "    unicode-bidi: embed;\n",
       "    white-space: pre-wrap;\n",
       "    word-wrap: break-word;\n",
       "    word-break: break-all;\n",
       "    font-family: \"Source Code Pro\", \"Menlo\", monospace;;\n",
       "    font-size: 13px;\n",
       "    color: #555;\n",
       "    margin-left: 4px;\n",
       "    line-height: 19px;\n",
       "  }\n",
       "</style>\n",
       "<div class=\"ansiout\"></div>"
      ]
     },
     "metadata": {
      "application/vnd.databricks.v1+output": {
       "addedWidgets": {},
       "arguments": {},
       "data": "<div class=\"ansiout\"></div>",
       "datasetInfos": [],
       "removedWidgets": [],
       "type": "html"
      }
     },
     "output_type": "display_data"
    }
   ],
   "source": [
    "def processGraphDF(filepath):\n",
    "\n",
    "  schema = StructType([\n",
    "      StructField(\"key\", IntegerType(), True),\n",
    "      StructField(\"value\", IntegerType(), True)])\n",
    "\n",
    "  df = spark.read.format('csv').load(filepath, headers=False, delimiter='\\t', schema=schema)\n",
    "\n",
    "  counter = 1\n",
    "  \n",
    "  while True:\n",
    "    counter = 0\n",
    "    print('Starting new loop')\n",
    "\n",
    "    # CCF-Iterate\n",
    "\n",
    "    # Creates the (value, key) pairs and adds them to the dataset\n",
    "    df = df.na.drop()\n",
    "    df_inverter = df.select(F.col('value').alias('key'), F.col('key').alias('value'))\n",
    "    df = df.union(df_inverter)\n",
    "\n",
    "    # Creates the (key, [values]) pairs\n",
    "    df = df.groupBy('key').agg(F.collect_list('value').alias('value')).sort('key')\n",
    "\n",
    "    # Removes the lines verifying key < min(values)\n",
    "    df = df.withColumn('min', F.array_min('value'))\n",
    "    df_check = df.where('min<key')\n",
    "    length_sum = df_check.select(F.size('value')).groupBy().sum().collect()[0][0]\n",
    "\n",
    "    # The counter is the stop condition, acting as an accumulator: when it is null, the loop will exit\n",
    "    counter = length_sum - df_check.count()\n",
    "    print(f'Counter value for this loop: {counter}')\n",
    "    print('-----------')\n",
    "\n",
    "    if counter == 0:\n",
    "      df = df.withColumn('value', F.explode('value'))\n",
    "      df.collect()\n",
    "      break\n",
    "\n",
    "    else:\n",
    "      df = df_check.withColumn('value', F.explode('value'))\n",
    "\n",
    "\n",
    "    # Generating the (key, min_value) pairs in df3 and renaming them (key, value)\n",
    "\n",
    "    df_key_min = df.select('key', F.col('min').alias('value')).dropDuplicates()\n",
    "\n",
    "    df_value_min = df.select(F.col('value').alias('key'), F.col('min').alias('value'))\n",
    "\n",
    "    df_value_min = df_value_min.where('key!=value')\n",
    "\n",
    "    df = df_key_min.union(df_value_min)\n",
    "\n",
    "    # CCF-Dedup\n",
    "    df = df.dropDuplicates()\n",
    "    \n",
    "#       df.show()\n"
   ]
  },
  {
   "cell_type": "markdown",
   "metadata": {
    "application/vnd.databricks.v1+cell": {
     "inputWidgets": {},
     "nuid": "5f4ac872-a7bb-4524-8266-67c7512f2849",
     "showTitle": false,
     "title": ""
    }
   },
   "source": [
    "Loop 1\n",
    "It groupby: \n",
    "[(2, [1, 3, 4]), (4, [2, 5]), (6, [7]), (8, [7]), (1, [2]), (3, [2]), (5, [4]), (7, [6, 8])]  \n",
    "It reduce: \n",
    "[(2, 1), (3, 1), (4, 1), (4, 2), (5, 2), (8, 7), (3, 2), (5, 4), (7, 6), (8, 6)]  \n",
    "Final ded output: \n",
    "[(3, 1), (4, 2), (8, 6), (2, 1), (4, 1), (5, 2), (8, 7), (3, 2), (5, 4), (7, 6)]\n",
    "\n",
    "Loop 2\n",
    "It groupby: \n",
    "[(4, [2, 1, 5]), (2, [4, 1, 5, 3]), (8, [6, 7]), (6, [8, 7]), (3, [1, 2]), (1, [3, 2, 4]), (5, [2, 4]), (7, [8, 6])]  \n",
    "It reduce: \n",
    "[(4, 1), (2, 1), (5, 1), (2, 1), (4, 1), (5, 1), (3, 1), (8, 6), (7, 6), (3, 1), (2, 1), (5, 2), (4, 2), (7, 6), (8, 6)]  \n",
    "Final ded output: \n",
    "[(5, 1), (3, 1), (8, 6), (4, 2), (4, 1), (2, 1), (7, 6), (5, 2)]"
   ]
  },
  {
   "cell_type": "code",
   "execution_count": 0,
   "metadata": {
    "application/vnd.databricks.v1+cell": {
     "inputWidgets": {},
     "nuid": "01abe3ce-8bb8-4e0c-a321-fc48d3b62c5f",
     "showTitle": false,
     "title": ""
    }
   },
   "outputs": [
    {
     "data": {
      "text/html": [
       "<style scoped>\n",
       "  .ansiout {\n",
       "    display: block;\n",
       "    unicode-bidi: embed;\n",
       "    white-space: pre-wrap;\n",
       "    word-wrap: break-word;\n",
       "    word-break: break-all;\n",
       "    font-family: \"Source Code Pro\", \"Menlo\", monospace;;\n",
       "    font-size: 13px;\n",
       "    color: #555;\n",
       "    margin-left: 4px;\n",
       "    line-height: 19px;\n",
       "  }\n",
       "</style>\n",
       "<div class=\"ansiout\">Starting new loop\n",
       "Counter value for this loop: 587752\n",
       "-----------\n",
       "Starting new loop\n",
       "Counter value for this loop: 1163311\n",
       "-----------\n",
       "Starting new loop\n",
       "Counter value for this loop: 2276279\n",
       "-----------\n",
       "Starting new loop\n",
       "Counter value for this loop: 1639836\n",
       "-----------\n",
       "Starting new loop\n",
       "Counter value for this loop: 36684\n",
       "-----------\n",
       "Starting new loop\n",
       "</div>"
      ]
     },
     "metadata": {
      "application/vnd.databricks.v1+output": {
       "addedWidgets": {},
       "arguments": {},
       "data": "<div class=\"ansiout\">Starting new loop\nCounter value for this loop: 587752\n-----------\nStarting new loop\nCounter value for this loop: 1163311\n-----------\nStarting new loop\nCounter value for this loop: 2276279\n-----------\nStarting new loop\nCounter value for this loop: 1639836\n-----------\nStarting new loop\nCounter value for this loop: 36684\n-----------\nStarting new loop\n</div>",
       "datasetInfos": [],
       "removedWidgets": [],
       "type": "html"
      }
     },
     "output_type": "display_data"
    }
   ],
   "source": [
    "filestore_name = filestore_paths_dict[('4M', 5)]\n",
    "processGraphDF(filestore_name)"
   ]
  },
  {
   "cell_type": "code",
   "execution_count": 0,
   "metadata": {
    "application/vnd.databricks.v1+cell": {
     "inputWidgets": {},
     "nuid": "3654bcb0-f5e9-42e5-a78a-68c6dd08fe49",
     "showTitle": false,
     "title": ""
    }
   },
   "outputs": [
    {
     "data": {
      "text/html": [
       "<style scoped>\n",
       "  .ansiout {\n",
       "    display: block;\n",
       "    unicode-bidi: embed;\n",
       "    white-space: pre-wrap;\n",
       "    word-wrap: break-word;\n",
       "    word-break: break-all;\n",
       "    font-family: \"Source Code Pro\", \"Menlo\", monospace;;\n",
       "    font-size: 13px;\n",
       "    color: #555;\n",
       "    margin-left: 4px;\n",
       "    line-height: 19px;\n",
       "  }\n",
       "</style>\n",
       "<div class=\"ansiout\">Starting new loop 1\n",
       "Starting reset loop 0\n",
       "[&#39;sc&#39;, &#39;sqlContext&#39;, &#39;table&#39;, &#39;sql&#39;, &#39;udf&#39;, &#39;display&#39;, &#39;displayHTML&#39;, &#39;getArgument&#39;, &#39;dbutils&#39;, &#39;spark&#39;, &#39;__name__&#39;, &#39;__builtin__&#39;, &#39;__builtins__&#39;, &#39;_ih&#39;, &#39;_oh&#39;, &#39;_dh&#39;, &#39;In&#39;, &#39;Out&#39;, &#39;get_ipython&#39;, &#39;exit&#39;, &#39;quit&#39;, &#39;_&#39;, &#39;__&#39;, &#39;___&#39;, &#39;_i&#39;, &#39;_ii&#39;, &#39;_iii&#39;, &#39;_i1&#39;, &#39;os&#39;, &#39;subprocess&#39;, &#39;time&#39;, &#39;_i2&#39;, &#39;username&#39;, &#39;password&#39;, &#39;url&#39;, &#39;email&#39;, &#39;_i3&#39;, &#39;_exit_code&#39;, &#39;_i4&#39;, &#39;user_inputs&#39;, &#39;filestore_paths_dict&#39;, &#39;k&#39;, &#39;v&#39;, &#39;filename&#39;, &#39;rel_filepath&#39;, &#39;abs_filepath&#39;, &#39;filestore_name&#39;, &#39;f&#39;, &#39;string&#39;, &#39;_i5&#39;, &#39;_i6&#39;, &#39;StructType&#39;, &#39;StructField&#39;, &#39;IntegerType&#39;, &#39;StringType&#39;, &#39;DataType&#39;, &#39;FloatType&#39;, &#39;MapType&#39;, &#39;F&#39;, &#39;schema&#39;, &#39;df&#39;, &#39;accum&#39;, &#39;df1&#39;, &#39;df2&#39;, &#39;_i7&#39;, &#39;_i8&#39;, &#39;_i9&#39;, &#39;reduce_ccf&#39;, &#39;reducer&#39;]\n",
       "Accumulator after group by and with column: 0 \n",
       "</div>"
      ]
     },
     "metadata": {
      "application/vnd.databricks.v1+output": {
       "addedWidgets": {},
       "arguments": {},
       "data": "<div class=\"ansiout\">Starting new loop 1\nStarting reset loop 0\n[&#39;sc&#39;, &#39;sqlContext&#39;, &#39;table&#39;, &#39;sql&#39;, &#39;udf&#39;, &#39;display&#39;, &#39;displayHTML&#39;, &#39;getArgument&#39;, &#39;dbutils&#39;, &#39;spark&#39;, &#39;__name__&#39;, &#39;__builtin__&#39;, &#39;__builtins__&#39;, &#39;_ih&#39;, &#39;_oh&#39;, &#39;_dh&#39;, &#39;In&#39;, &#39;Out&#39;, &#39;get_ipython&#39;, &#39;exit&#39;, &#39;quit&#39;, &#39;_&#39;, &#39;__&#39;, &#39;___&#39;, &#39;_i&#39;, &#39;_ii&#39;, &#39;_iii&#39;, &#39;_i1&#39;, &#39;os&#39;, &#39;subprocess&#39;, &#39;time&#39;, &#39;_i2&#39;, &#39;username&#39;, &#39;password&#39;, &#39;url&#39;, &#39;email&#39;, &#39;_i3&#39;, &#39;_exit_code&#39;, &#39;_i4&#39;, &#39;user_inputs&#39;, &#39;filestore_paths_dict&#39;, &#39;k&#39;, &#39;v&#39;, &#39;filename&#39;, &#39;rel_filepath&#39;, &#39;abs_filepath&#39;, &#39;filestore_name&#39;, &#39;f&#39;, &#39;string&#39;, &#39;_i5&#39;, &#39;_i6&#39;, &#39;StructType&#39;, &#39;StructField&#39;, &#39;IntegerType&#39;, &#39;StringType&#39;, &#39;DataType&#39;, &#39;FloatType&#39;, &#39;MapType&#39;, &#39;F&#39;, &#39;schema&#39;, &#39;df&#39;, &#39;accum&#39;, &#39;df1&#39;, &#39;df2&#39;, &#39;_i7&#39;, &#39;_i8&#39;, &#39;_i9&#39;, &#39;reduce_ccf&#39;, &#39;reducer&#39;]\nAccumulator after group by and with column: 0 \n</div>",
       "datasetInfos": [],
       "removedWidgets": [],
       "type": "html"
      }
     },
     "output_type": "display_data"
    },
    {
     "data": {
      "text/html": [
       "<style scoped>\n",
       "  .ansiout {\n",
       "    display: block;\n",
       "    unicode-bidi: embed;\n",
       "    white-space: pre-wrap;\n",
       "    word-wrap: break-word;\n",
       "    word-break: break-all;\n",
       "    font-family: \"Source Code Pro\", \"Menlo\", monospace;;\n",
       "    font-size: 13px;\n",
       "    color: #555;\n",
       "    margin-left: 4px;\n",
       "    line-height: 19px;\n",
       "  }\n",
       "</style>\n",
       "<div class=\"ansiout\"><span class=\"ansi-red-fg\">---------------------------------------------------------------------------</span>\n",
       "<span class=\"ansi-red-fg\">PythonException</span>                           Traceback (most recent call last)\n",
       "<span class=\"ansi-green-fg\">&lt;command-3724249596082068&gt;</span> in <span class=\"ansi-cyan-fg\">&lt;module&gt;</span>\n",
       "<span class=\"ansi-green-intense-fg ansi-bold\">     46</span>   print<span class=\"ansi-blue-fg\">(</span><span class=\"ansi-blue-fg\">f&#39;Accumulator after group by and with column: {accum.value} &#39;</span><span class=\"ansi-blue-fg\">)</span>\n",
       "<span class=\"ansi-green-intense-fg ansi-bold\">     47</span>   df <span class=\"ansi-blue-fg\">=</span> df<span class=\"ansi-blue-fg\">.</span>select<span class=\"ansi-blue-fg\">(</span>F<span class=\"ansi-blue-fg\">.</span>explode<span class=\"ansi-blue-fg\">(</span><span class=\"ansi-blue-fg\">&#39;reducer&#39;</span><span class=\"ansi-blue-fg\">)</span><span class=\"ansi-blue-fg\">)</span>\n",
       "<span class=\"ansi-green-fg\">---&gt; 48</span><span class=\"ansi-red-fg\">   </span>df<span class=\"ansi-blue-fg\">.</span>collect<span class=\"ansi-blue-fg\">(</span><span class=\"ansi-blue-fg\">)</span>\n",
       "<span class=\"ansi-green-intense-fg ansi-bold\">     49</span> \n",
       "<span class=\"ansi-green-intense-fg ansi-bold\">     50</span>   df <span class=\"ansi-blue-fg\">=</span> df<span class=\"ansi-blue-fg\">.</span>na<span class=\"ansi-blue-fg\">.</span>drop<span class=\"ansi-blue-fg\">(</span><span class=\"ansi-blue-fg\">)</span>\n",
       "\n",
       "<span class=\"ansi-green-fg\">/databricks/spark/python/pyspark/sql/dataframe.py</span> in <span class=\"ansi-cyan-fg\">collect</span><span class=\"ansi-blue-fg\">(self)</span>\n",
       "<span class=\"ansi-green-intense-fg ansi-bold\">    609</span>         <span class=\"ansi-red-fg\"># Default path used in OSS Spark / for non-DF-ACL clusters:</span>\n",
       "<span class=\"ansi-green-intense-fg ansi-bold\">    610</span>         <span class=\"ansi-green-fg\">with</span> SCCallSiteSync<span class=\"ansi-blue-fg\">(</span>self<span class=\"ansi-blue-fg\">.</span>_sc<span class=\"ansi-blue-fg\">)</span> <span class=\"ansi-green-fg\">as</span> css<span class=\"ansi-blue-fg\">:</span>\n",
       "<span class=\"ansi-green-fg\">--&gt; 611</span><span class=\"ansi-red-fg\">             </span>sock_info <span class=\"ansi-blue-fg\">=</span> self<span class=\"ansi-blue-fg\">.</span>_jdf<span class=\"ansi-blue-fg\">.</span>collectToPython<span class=\"ansi-blue-fg\">(</span><span class=\"ansi-blue-fg\">)</span>\n",
       "<span class=\"ansi-green-intense-fg ansi-bold\">    612</span>         <span class=\"ansi-green-fg\">return</span> list<span class=\"ansi-blue-fg\">(</span>_load_from_socket<span class=\"ansi-blue-fg\">(</span>sock_info<span class=\"ansi-blue-fg\">,</span> BatchedSerializer<span class=\"ansi-blue-fg\">(</span>PickleSerializer<span class=\"ansi-blue-fg\">(</span><span class=\"ansi-blue-fg\">)</span><span class=\"ansi-blue-fg\">)</span><span class=\"ansi-blue-fg\">)</span><span class=\"ansi-blue-fg\">)</span>\n",
       "<span class=\"ansi-green-intense-fg ansi-bold\">    613</span> \n",
       "\n",
       "<span class=\"ansi-green-fg\">/databricks/spark/python/lib/py4j-0.10.9-src.zip/py4j/java_gateway.py</span> in <span class=\"ansi-cyan-fg\">__call__</span><span class=\"ansi-blue-fg\">(self, *args)</span>\n",
       "<span class=\"ansi-green-intense-fg ansi-bold\">   1303</span>         answer <span class=\"ansi-blue-fg\">=</span> self<span class=\"ansi-blue-fg\">.</span>gateway_client<span class=\"ansi-blue-fg\">.</span>send_command<span class=\"ansi-blue-fg\">(</span>command<span class=\"ansi-blue-fg\">)</span>\n",
       "<span class=\"ansi-green-intense-fg ansi-bold\">   1304</span>         return_value = get_return_value(\n",
       "<span class=\"ansi-green-fg\">-&gt; 1305</span><span class=\"ansi-red-fg\">             answer, self.gateway_client, self.target_id, self.name)\n",
       "</span><span class=\"ansi-green-intense-fg ansi-bold\">   1306</span> \n",
       "<span class=\"ansi-green-intense-fg ansi-bold\">   1307</span>         <span class=\"ansi-green-fg\">for</span> temp_arg <span class=\"ansi-green-fg\">in</span> temp_args<span class=\"ansi-blue-fg\">:</span>\n",
       "\n",
       "<span class=\"ansi-green-fg\">/databricks/spark/python/pyspark/sql/utils.py</span> in <span class=\"ansi-cyan-fg\">deco</span><span class=\"ansi-blue-fg\">(*a, **kw)</span>\n",
       "<span class=\"ansi-green-intense-fg ansi-bold\">    131</span>                 <span class=\"ansi-red-fg\"># Hide where the exception came from that shows a non-Pythonic</span>\n",
       "<span class=\"ansi-green-intense-fg ansi-bold\">    132</span>                 <span class=\"ansi-red-fg\"># JVM exception message.</span>\n",
       "<span class=\"ansi-green-fg\">--&gt; 133</span><span class=\"ansi-red-fg\">                 </span>raise_from<span class=\"ansi-blue-fg\">(</span>converted<span class=\"ansi-blue-fg\">)</span>\n",
       "<span class=\"ansi-green-intense-fg ansi-bold\">    134</span>             <span class=\"ansi-green-fg\">else</span><span class=\"ansi-blue-fg\">:</span>\n",
       "<span class=\"ansi-green-intense-fg ansi-bold\">    135</span>                 <span class=\"ansi-green-fg\">raise</span>\n",
       "\n",
       "<span class=\"ansi-green-fg\">/databricks/spark/python/pyspark/sql/utils.py</span> in <span class=\"ansi-cyan-fg\">raise_from</span><span class=\"ansi-blue-fg\">(e)</span>\n",
       "\n",
       "<span class=\"ansi-red-fg\">PythonException</span>: An exception was thrown from a UDF: &#39;Exception: Accumulator.value cannot be accessed inside tasks&#39;, from &lt;command-3724249596082068&gt;, line 24. Full traceback below:\n",
       "Traceback (most recent call last):\n",
       "  File &#34;&lt;command-3724249596082068&gt;&#34;, line 24, in &lt;lambda&gt;\n",
       "  File &#34;/databricks/spark/python/pyspark/accumulators.py&#34;, line 153, in value\n",
       "    raise Exception(&#34;Accumulator.value cannot be accessed inside tasks&#34;)\n",
       "Exception: Accumulator.value cannot be accessed inside tasks\n",
       "</div>"
      ]
     },
     "metadata": {
      "application/vnd.databricks.v1+output": {
       "arguments": {},
       "data": "<div class=\"ansiout\"><span class=\"ansi-red-fg\">---------------------------------------------------------------------------</span>\n<span class=\"ansi-red-fg\">PythonException</span>                           Traceback (most recent call last)\n<span class=\"ansi-green-fg\">&lt;command-3724249596082068&gt;</span> in <span class=\"ansi-cyan-fg\">&lt;module&gt;</span>\n<span class=\"ansi-green-intense-fg ansi-bold\">     46</span>   print<span class=\"ansi-blue-fg\">(</span><span class=\"ansi-blue-fg\">f&#39;Accumulator after group by and with column: {accum.value} &#39;</span><span class=\"ansi-blue-fg\">)</span>\n<span class=\"ansi-green-intense-fg ansi-bold\">     47</span>   df <span class=\"ansi-blue-fg\">=</span> df<span class=\"ansi-blue-fg\">.</span>select<span class=\"ansi-blue-fg\">(</span>F<span class=\"ansi-blue-fg\">.</span>explode<span class=\"ansi-blue-fg\">(</span><span class=\"ansi-blue-fg\">&#39;reducer&#39;</span><span class=\"ansi-blue-fg\">)</span><span class=\"ansi-blue-fg\">)</span>\n<span class=\"ansi-green-fg\">---&gt; 48</span><span class=\"ansi-red-fg\">   </span>df<span class=\"ansi-blue-fg\">.</span>collect<span class=\"ansi-blue-fg\">(</span><span class=\"ansi-blue-fg\">)</span>\n<span class=\"ansi-green-intense-fg ansi-bold\">     49</span> \n<span class=\"ansi-green-intense-fg ansi-bold\">     50</span>   df <span class=\"ansi-blue-fg\">=</span> df<span class=\"ansi-blue-fg\">.</span>na<span class=\"ansi-blue-fg\">.</span>drop<span class=\"ansi-blue-fg\">(</span><span class=\"ansi-blue-fg\">)</span>\n\n<span class=\"ansi-green-fg\">/databricks/spark/python/pyspark/sql/dataframe.py</span> in <span class=\"ansi-cyan-fg\">collect</span><span class=\"ansi-blue-fg\">(self)</span>\n<span class=\"ansi-green-intense-fg ansi-bold\">    609</span>         <span class=\"ansi-red-fg\"># Default path used in OSS Spark / for non-DF-ACL clusters:</span>\n<span class=\"ansi-green-intense-fg ansi-bold\">    610</span>         <span class=\"ansi-green-fg\">with</span> SCCallSiteSync<span class=\"ansi-blue-fg\">(</span>self<span class=\"ansi-blue-fg\">.</span>_sc<span class=\"ansi-blue-fg\">)</span> <span class=\"ansi-green-fg\">as</span> css<span class=\"ansi-blue-fg\">:</span>\n<span class=\"ansi-green-fg\">--&gt; 611</span><span class=\"ansi-red-fg\">             </span>sock_info <span class=\"ansi-blue-fg\">=</span> self<span class=\"ansi-blue-fg\">.</span>_jdf<span class=\"ansi-blue-fg\">.</span>collectToPython<span class=\"ansi-blue-fg\">(</span><span class=\"ansi-blue-fg\">)</span>\n<span class=\"ansi-green-intense-fg ansi-bold\">    612</span>         <span class=\"ansi-green-fg\">return</span> list<span class=\"ansi-blue-fg\">(</span>_load_from_socket<span class=\"ansi-blue-fg\">(</span>sock_info<span class=\"ansi-blue-fg\">,</span> BatchedSerializer<span class=\"ansi-blue-fg\">(</span>PickleSerializer<span class=\"ansi-blue-fg\">(</span><span class=\"ansi-blue-fg\">)</span><span class=\"ansi-blue-fg\">)</span><span class=\"ansi-blue-fg\">)</span><span class=\"ansi-blue-fg\">)</span>\n<span class=\"ansi-green-intense-fg ansi-bold\">    613</span> \n\n<span class=\"ansi-green-fg\">/databricks/spark/python/lib/py4j-0.10.9-src.zip/py4j/java_gateway.py</span> in <span class=\"ansi-cyan-fg\">__call__</span><span class=\"ansi-blue-fg\">(self, *args)</span>\n<span class=\"ansi-green-intense-fg ansi-bold\">   1303</span>         answer <span class=\"ansi-blue-fg\">=</span> self<span class=\"ansi-blue-fg\">.</span>gateway_client<span class=\"ansi-blue-fg\">.</span>send_command<span class=\"ansi-blue-fg\">(</span>command<span class=\"ansi-blue-fg\">)</span>\n<span class=\"ansi-green-intense-fg ansi-bold\">   1304</span>         return_value = get_return_value(\n<span class=\"ansi-green-fg\">-&gt; 1305</span><span class=\"ansi-red-fg\">             answer, self.gateway_client, self.target_id, self.name)\n</span><span class=\"ansi-green-intense-fg ansi-bold\">   1306</span> \n<span class=\"ansi-green-intense-fg ansi-bold\">   1307</span>         <span class=\"ansi-green-fg\">for</span> temp_arg <span class=\"ansi-green-fg\">in</span> temp_args<span class=\"ansi-blue-fg\">:</span>\n\n<span class=\"ansi-green-fg\">/databricks/spark/python/pyspark/sql/utils.py</span> in <span class=\"ansi-cyan-fg\">deco</span><span class=\"ansi-blue-fg\">(*a, **kw)</span>\n<span class=\"ansi-green-intense-fg ansi-bold\">    131</span>                 <span class=\"ansi-red-fg\"># Hide where the exception came from that shows a non-Pythonic</span>\n<span class=\"ansi-green-intense-fg ansi-bold\">    132</span>                 <span class=\"ansi-red-fg\"># JVM exception message.</span>\n<span class=\"ansi-green-fg\">--&gt; 133</span><span class=\"ansi-red-fg\">                 </span>raise_from<span class=\"ansi-blue-fg\">(</span>converted<span class=\"ansi-blue-fg\">)</span>\n<span class=\"ansi-green-intense-fg ansi-bold\">    134</span>             <span class=\"ansi-green-fg\">else</span><span class=\"ansi-blue-fg\">:</span>\n<span class=\"ansi-green-intense-fg ansi-bold\">    135</span>                 <span class=\"ansi-green-fg\">raise</span>\n\n<span class=\"ansi-green-fg\">/databricks/spark/python/pyspark/sql/utils.py</span> in <span class=\"ansi-cyan-fg\">raise_from</span><span class=\"ansi-blue-fg\">(e)</span>\n\n<span class=\"ansi-red-fg\">PythonException</span>: An exception was thrown from a UDF: &#39;Exception: Accumulator.value cannot be accessed inside tasks&#39;, from &lt;command-3724249596082068&gt;, line 24. Full traceback below:\nTraceback (most recent call last):\n  File &#34;&lt;command-3724249596082068&gt;&#34;, line 24, in &lt;lambda&gt;\n  File &#34;/databricks/spark/python/pyspark/accumulators.py&#34;, line 153, in value\n    raise Exception(&#34;Accumulator.value cannot be accessed inside tasks&#34;)\nException: Accumulator.value cannot be accessed inside tasks\n</div>",
       "errorSummary": "<span class=\"ansi-red-fg\">PythonException</span>: An exception was thrown from a UDF: &#39;Exception: Accumulator.value cannot be accessed inside tasks&#39;, from &lt;command-3724249596082068&gt;, line 24. Full traceback below:",
       "type": "ipynbError"
      }
     },
     "output_type": "display_data"
    }
   ],
   "source": [
    "## CLASSICAL VERSION ##\n",
    "\n",
    "def reduce_ccf(key, values, ac_val):\n",
    "  #print('Entering CCF: ', ac_val)\n",
    "  #print(locals()['ac_val'])\n",
    "  min_value = values.pop(values.index(min(values)))\n",
    "  ret = {}\n",
    "  if min_value < key:\n",
    "    #print('Entering if: ', accum.value)\n",
    "    accum.add(len(values))\n",
    "    #print('After adding accum: ', accum.value)\n",
    "    ret[key] = min_value\n",
    "    for value in values:\n",
    "      #print('Entering for: ', accum.value)\n",
    "      #print(f'Entering loop with value {value} and min value {value}')\n",
    "\n",
    "       # là on peu surement add en une fois la taille de la liste\n",
    "      ret[value] = min_value\n",
    "      #ret.append((value, min_value)) # là on peut surement zip \n",
    "  else:\n",
    "    ret[key] = None\n",
    "  return ret\n",
    "\n",
    "reducer = F.udf(lambda x, y: reduce_ccf(x, y, accum.value), MapType(IntegerType(), IntegerType()))\n",
    "\n",
    "schema = StructType([\n",
    "    StructField(\"key\", IntegerType(), True),\n",
    "    StructField(\"value\", IntegerType(), True)])\n",
    "\n",
    "df = spark.read.format('csv').load(filestore_name, headers=False, delimiter='\\t', schema=schema)\n",
    "accum = sc.accumulator(1)\n",
    "\n",
    "while accum.value > 0:\n",
    "  print('Starting new loop', accum.value)\n",
    "  accum.value = 0\n",
    "  print('Starting reset loop', accum.value)\n",
    "  print([x for x, _ in locals().items()])\n",
    "  # CCF-Iterate\n",
    "  df = df.na.drop()\n",
    "  df1 = df.withColumn(\"key\", F.create_map([\"key\", \"value\"])).select('key')\n",
    "  df2 = df.withColumn(\"key\", F.create_map([\"value\", \"key\"])).select('key')\n",
    "  df = df1.union(df2)\n",
    "  df = df.groupBy(F.map_keys('key')[0].alias('key')).agg(F.collect_list(F.map_values('key')[0]).alias('value')).sort('key')\n",
    "  df = df.withColumn('reducer', reducer('key', 'value')).select('reducer')\n",
    "\n",
    "  print(f'Accumulator after group by and with column: {accum.value} ')\n",
    "  df = df.select(F.explode('reducer'))\n",
    "  df.collect()\n",
    "\n",
    "  df = df.na.drop()\n",
    "  print(f'Accumulator after na drop: {accum.value} ')\n",
    "\n",
    "  # CCF - Dedup\n",
    "  df = df.dropDuplicates()\n",
    "  print('Accumulator value after drop duplicates:', accum.value)\n",
    "\n",
    "filestore_name = filestore_paths_dict['toy']\n",
    "processGraphDF(filestore_name)"
   ]
  },
  {
   "cell_type": "code",
   "execution_count": 0,
   "metadata": {
    "application/vnd.databricks.v1+cell": {
     "inputWidgets": {},
     "nuid": "f3145235-4475-4f1b-b373-38b309092de4",
     "showTitle": false,
     "title": ""
    }
   },
   "outputs": [],
   "source": [
    "\n",
    "# from pyspark.sql.types import StructType, StructField, IntegerType, StringType, DataType, FloatType, MapType\n",
    "# import pyspark.sql.functions as F \n",
    "# #import udf, array, concat_ws, collect_list, explode, create_map, map_keys, map_value\n",
    "\n",
    "# def processGraphDF(filepath):\n",
    "  \n",
    "# #   def reduce_ccf(key, values, accum):\n",
    "# #     min_value = values.pop(values.index(min(values)))\n",
    "# #     ret = {}\n",
    "# #     if min_value < key:\n",
    "# #       ret[key] = min_value\n",
    "# #       accum.add(len(values))\n",
    "      \n",
    "# #       for value in values:\n",
    "# #         print(f'Entering loop with value {value} and min value {value}')\n",
    "        \n",
    "# #          # là on peu surement add en une fois la taille de la liste\n",
    "# #         ret[value] = min_value\n",
    "# #         #ret.append((value, min_value)) # là on peut surement zip \n",
    "# #     else:\n",
    "# #       ret[key] = None\n",
    "    \n",
    "# #     return ret\n",
    "  \n",
    "# #   reducer_schema = StructType([\n",
    "# #       StructField(\"map\", MapType(IntegerType(), IntegerType()), True),\n",
    "# #       StructField(\"counter\", IntegerType(), True)])\n",
    "  \n",
    "# #  reducer = F.udf(lambda x, y: reduce_ccf(x, y, accum), MapType(IntegerType(), IntegerType()))\n",
    "  \n",
    "#   schema = StructType([\n",
    "#       StructField(\"key\", IntegerType(), True),\n",
    "#       StructField(\"value\", IntegerType(), True)])\n",
    "\n",
    "#   df = spark.read.format('csv').load(filestore_name, headers=False, delimiter='\\t', schema=schema)\n",
    "\n",
    "#   accum = sc.accumulator(1)\n",
    "#   #test_accum = spark.accumulator(1)\n",
    "# #   breaker = 0\n",
    "#   while accum.value > 0:\n",
    "    \n",
    "  \n",
    "#     accum.value = 0\n",
    "#     #accum.reset()\n",
    "#     print(\"Start loop \", accum.value)\n",
    "    \n",
    "#     # CCF-Iterate\n",
    "#     df = df.na.drop()\n",
    "#     df1 = df.withColumn(\"key\", F.create_map([\"key\", \"value\"])).select('key')\n",
    "#     df2 = df.withColumn(\"key\", F.create_map([\"value\", \"key\"])).select('key')\n",
    "#     df = df1.union(df2)\n",
    "#     print(f'Accumulator after union: {accum.value} ')\n",
    "# #     print('IT Map result: ')\n",
    "\n",
    "# #     df.show()\n",
    "    \n",
    "#     df = df.groupBy(F.map_keys('key')[0].alias('key')).agg(F.collect_list(F.map_values('key')[0]).alias('value')).sort('key')\n",
    "# #     print('IT Groupby result: ')\n",
    "# #     df.show()\n",
    "#     print(f'Accumulator after group by: {accum.value} ')\n",
    "#     #df = df.withColumn('length', F.size('value'))\n",
    "#     df.show()\n",
    "#     df = df.withColumn('reducer', reducer('key', 'value')).select('reducer')\n",
    "#     df = df.select(F.explode('reducer'))\n",
    "    \n",
    "#     print(f'Accumulator after explode/reducer: {accum.value} ')\n",
    "#     #df = df.na.drop()\n",
    "#     print(f'Accumulator after na drop: {accum.value} ')\n",
    "# #     print('IT Reduce result: ')\n",
    "# #     df.show()\n",
    "# #     print('-----------------')\n",
    "\n",
    "#     # CCF - Dedup\n",
    "    \n",
    "#     #print('Duplicates :', df.na.sum())\n",
    "#     df = df.dropDuplicates()\n",
    "#     print('Accumulator value before collect:', accum.value)\n",
    "#     df.collect()\n",
    "#     df.show()\n",
    "    \n",
    "#     print('Accumulator value after drop duplicates:', accum.value)\n",
    "    \n",
    "# filestore_name = filestore_paths_dict['toy']\n",
    "# processGraphDF(filestore_name)"
   ]
  }
 ],
 "metadata": {
  "application/vnd.databricks.v1+notebook": {
   "dashboards": [],
   "language": "python",
   "notebookName": "GraphConnectedComponentsFinder",
   "notebookOrigID": 4098396784074190,
   "widgets": {}
  },
  "kernelspec": {
   "display_name": "Python 3",
   "language": "python",
   "name": "python3"
  },
  "language_info": {
   "codemirror_mode": {
    "name": "ipython",
    "version": 3
   },
   "file_extension": ".py",
   "mimetype": "text/x-python",
   "name": "python",
   "nbconvert_exporter": "python",
   "pygments_lexer": "ipython3",
   "version": "3.8.2"
  }
 },
 "nbformat": 4,
 "nbformat_minor": 1
}
