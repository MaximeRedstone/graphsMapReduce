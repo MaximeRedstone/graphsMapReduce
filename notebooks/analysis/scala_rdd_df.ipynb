{
 "cells": [
  {
   "cell_type": "code",
   "execution_count": 57,
   "metadata": {},
   "outputs": [],
   "source": [
    "import pandas as pd\n",
    "import os\n",
    "import matplotlib.pyplot as plt\n",
    "\n",
    "import warnings\n",
    "warnings.filterwarnings('ignore')\n",
    "\n",
    "fontsize = 14\n",
    "params = {'axes.labelsize': fontsize,\n",
    "          'font.size': fontsize,\n",
    "          'legend.fontsize': fontsize,\n",
    "          'xtick.labelsize': fontsize,\n",
    "          'ytick.labelsize': fontsize,\n",
    "          'figure.figsize': (15, 8)}\n",
    "plt.rcParams.update(params)"
   ]
  },
  {
   "cell_type": "code",
   "execution_count": 58,
   "metadata": {},
   "outputs": [],
   "source": [
    "root_path = os.path.join('..', '..', 'cleaned_logs_to_keep', 'databricks', 'Scala')\n",
    "full_logs = pd.read_csv(os.path.join(root_path, 'scala_web_google_rdd_df.csv'))"
   ]
  },
  {
   "cell_type": "code",
   "execution_count": 59,
   "metadata": {},
   "outputs": [],
   "source": [
    "def get_durations(df):\n",
    "    \n",
    "    try:\n",
    "        df['end_of_command'] = pd.to_datetime(df['end_of_command'])\n",
    "        df['duration'] = df['end_of_command'].diff().dt.total_seconds()\n",
    "#         df['duration'].fillna(0, inplace=True)\n",
    "        df.dropna(axis=0, inplace=True)\n",
    "        df.set_index('loop_counter', inplace=True)\n",
    "        df['edge_per_node'] = df['filename'].apply(lambda x: int(x.split('_')[-1].split('.')[0]))\n",
    "    except:\n",
    "        pass\n",
    "    return df"
   ]
  },
  {
   "cell_type": "code",
   "execution_count": 60,
   "metadata": {},
   "outputs": [],
   "source": [
    "rdd_logs = full_logs[full_logs['algo_type'] == 'scala-rdd-sorted']\n",
    "df_logs = full_logs[full_logs['algo_type'] == 'scala-df']\n",
    "\n",
    "rdd_logs = get_durations(rdd_logs)\n",
    "df_logs = get_durations(df_logs)"
   ]
  },
  {
   "cell_type": "code",
   "execution_count": 61,
   "metadata": {
    "scrolled": true
   },
   "outputs": [
    {
     "name": "stdout",
     "output_type": "stream",
     "text": [
      "duration of rdd version = 1164.194 seconds\n",
      "duration of df version = 1245.516 seconds\n"
     ]
    }
   ],
   "source": [
    "print(f\"duration of rdd version = {rdd_logs['duration'].sum()} seconds\")\n",
    "print(f\"duration of df version = {df_logs['duration'].sum()} seconds\")"
   ]
  },
  {
   "cell_type": "code",
   "execution_count": 62,
   "metadata": {},
   "outputs": [
    {
     "data": {
      "text/html": [
       "<div>\n",
       "<style scoped>\n",
       "    .dataframe tbody tr th:only-of-type {\n",
       "        vertical-align: middle;\n",
       "    }\n",
       "\n",
       "    .dataframe tbody tr th {\n",
       "        vertical-align: top;\n",
       "    }\n",
       "\n",
       "    .dataframe thead th {\n",
       "        text-align: right;\n",
       "    }\n",
       "</style>\n",
       "<table border=\"1\" class=\"dataframe\">\n",
       "  <thead>\n",
       "    <tr style=\"text-align: right;\">\n",
       "      <th></th>\n",
       "      <th>filename</th>\n",
       "      <th>algo_type</th>\n",
       "      <th>command</th>\n",
       "      <th>end_of_command</th>\n",
       "      <th>accum</th>\n",
       "      <th>length</th>\n",
       "      <th>duration</th>\n",
       "    </tr>\n",
       "    <tr>\n",
       "      <th>loop_counter</th>\n",
       "      <th></th>\n",
       "      <th></th>\n",
       "      <th></th>\n",
       "      <th></th>\n",
       "      <th></th>\n",
       "      <th></th>\n",
       "      <th></th>\n",
       "    </tr>\n",
       "  </thead>\n",
       "  <tbody>\n",
       "    <tr>\n",
       "      <th>1</th>\n",
       "      <td>dbfs:/FileStore/web-Google.txt</td>\n",
       "      <td>scala-rdd-sorted</td>\n",
       "      <td>ded_reduce</td>\n",
       "      <td>2021-03-25 16:13:54.701000+00:00</td>\n",
       "      <td>8670951</td>\n",
       "      <td>3265665</td>\n",
       "      <td>64.225</td>\n",
       "    </tr>\n",
       "    <tr>\n",
       "      <th>2</th>\n",
       "      <td>dbfs:/FileStore/web-Google.txt</td>\n",
       "      <td>scala-rdd-sorted</td>\n",
       "      <td>ded_reduce</td>\n",
       "      <td>2021-03-25 16:14:56.104000+00:00</td>\n",
       "      <td>4821525</td>\n",
       "      <td>2137152</td>\n",
       "      <td>61.403</td>\n",
       "    </tr>\n",
       "    <tr>\n",
       "      <th>3</th>\n",
       "      <td>dbfs:/FileStore/web-Google.txt</td>\n",
       "      <td>scala-rdd-sorted</td>\n",
       "      <td>ded_reduce</td>\n",
       "      <td>2021-03-25 16:15:53.426000+00:00</td>\n",
       "      <td>3278772</td>\n",
       "      <td>2447178</td>\n",
       "      <td>57.322</td>\n",
       "    </tr>\n",
       "    <tr>\n",
       "      <th>4</th>\n",
       "      <td>dbfs:/FileStore/web-Google.txt</td>\n",
       "      <td>scala-rdd-sorted</td>\n",
       "      <td>ded_reduce</td>\n",
       "      <td>2021-03-25 16:23:11.339000+00:00</td>\n",
       "      <td>3888454</td>\n",
       "      <td>1805991</td>\n",
       "      <td>437.913</td>\n",
       "    </tr>\n",
       "    <tr>\n",
       "      <th>5</th>\n",
       "      <td>dbfs:/FileStore/web-Google.txt</td>\n",
       "      <td>scala-rdd-sorted</td>\n",
       "      <td>ded_reduce</td>\n",
       "      <td>2021-03-25 16:31:15.485000+00:00</td>\n",
       "      <td>1905323</td>\n",
       "      <td>916041</td>\n",
       "      <td>484.146</td>\n",
       "    </tr>\n",
       "    <tr>\n",
       "      <th>6</th>\n",
       "      <td>dbfs:/FileStore/web-Google.txt</td>\n",
       "      <td>scala-rdd-sorted</td>\n",
       "      <td>ded_reduce</td>\n",
       "      <td>2021-03-25 16:31:37.109000+00:00</td>\n",
       "      <td>86783</td>\n",
       "      <td>873626</td>\n",
       "      <td>21.624</td>\n",
       "    </tr>\n",
       "    <tr>\n",
       "      <th>7</th>\n",
       "      <td>dbfs:/FileStore/web-Google.txt</td>\n",
       "      <td>scala-rdd-sorted</td>\n",
       "      <td>ded_reduce</td>\n",
       "      <td>2021-03-25 16:31:55.614000+00:00</td>\n",
       "      <td>1318</td>\n",
       "      <td>872967</td>\n",
       "      <td>18.505</td>\n",
       "    </tr>\n",
       "    <tr>\n",
       "      <th>8</th>\n",
       "      <td>dbfs:/FileStore/web-Google.txt</td>\n",
       "      <td>scala-rdd-sorted</td>\n",
       "      <td>ded_reduce</td>\n",
       "      <td>2021-03-25 16:32:14.670000+00:00</td>\n",
       "      <td>0</td>\n",
       "      <td>872967</td>\n",
       "      <td>19.056</td>\n",
       "    </tr>\n",
       "  </tbody>\n",
       "</table>\n",
       "</div>"
      ],
      "text/plain": [
       "                                    filename         algo_type     command  \\\n",
       "loop_counter                                                                 \n",
       "1             dbfs:/FileStore/web-Google.txt  scala-rdd-sorted  ded_reduce   \n",
       "2             dbfs:/FileStore/web-Google.txt  scala-rdd-sorted  ded_reduce   \n",
       "3             dbfs:/FileStore/web-Google.txt  scala-rdd-sorted  ded_reduce   \n",
       "4             dbfs:/FileStore/web-Google.txt  scala-rdd-sorted  ded_reduce   \n",
       "5             dbfs:/FileStore/web-Google.txt  scala-rdd-sorted  ded_reduce   \n",
       "6             dbfs:/FileStore/web-Google.txt  scala-rdd-sorted  ded_reduce   \n",
       "7             dbfs:/FileStore/web-Google.txt  scala-rdd-sorted  ded_reduce   \n",
       "8             dbfs:/FileStore/web-Google.txt  scala-rdd-sorted  ded_reduce   \n",
       "\n",
       "                               end_of_command    accum   length  duration  \n",
       "loop_counter                                                               \n",
       "1            2021-03-25 16:13:54.701000+00:00  8670951  3265665    64.225  \n",
       "2            2021-03-25 16:14:56.104000+00:00  4821525  2137152    61.403  \n",
       "3            2021-03-25 16:15:53.426000+00:00  3278772  2447178    57.322  \n",
       "4            2021-03-25 16:23:11.339000+00:00  3888454  1805991   437.913  \n",
       "5            2021-03-25 16:31:15.485000+00:00  1905323   916041   484.146  \n",
       "6            2021-03-25 16:31:37.109000+00:00    86783   873626    21.624  \n",
       "7            2021-03-25 16:31:55.614000+00:00     1318   872967    18.505  \n",
       "8            2021-03-25 16:32:14.670000+00:00        0   872967    19.056  "
      ]
     },
     "execution_count": 62,
     "metadata": {},
     "output_type": "execute_result"
    }
   ],
   "source": [
    "rdd_logs"
   ]
  },
  {
   "cell_type": "code",
   "execution_count": 63,
   "metadata": {},
   "outputs": [
    {
     "data": {
      "text/plain": [
       "<matplotlib.legend.Legend at 0x11bb7a4f0>"
      ]
     },
     "execution_count": 63,
     "metadata": {},
     "output_type": "execute_result"
    },
    {
     "data": {
      "image/png": "[encoded data removed]",
      "text/plain": [
       "<Figure size 1080x576 with 1 Axes>"
      ]
     },
     "metadata": {
      "needs_background": "light"
     },
     "output_type": "display_data"
    }
   ],
   "source": [
    "width = 0.3\n",
    "plt.bar(rdd_logs.index.values - (width / 2), height=rdd_logs['duration'], width=width, label='rdd')\n",
    "plt.bar(df_logs.index.values + (width / 2), height=df_logs['duration'], width=width, label='dataframe')\n",
    "plt.xlabel('Iteration')\n",
    "plt.ylabel('Duration (seconds)')\n",
    "plt.title('Comparison of Scala RDD and Dataframe implementations for graph Web-Google')\n",
    "plt.legend()"
   ]
  },
  {
   "cell_type": "code",
   "execution_count": null,
   "metadata": {},
   "outputs": [],
   "source": []
  }
 ],
 "metadata": {
  "kernelspec": {
   "display_name": "Python 3",
   "language": "python",
   "name": "python3"
  },
  "language_info": {
   "codemirror_mode": {
    "name": "ipython",
    "version": 3
   },
   "file_extension": ".py",
   "mimetype": "text/x-python",
   "name": "python",
   "nbconvert_exporter": "python",
   "pygments_lexer": "ipython3",
   "version": "3.8.5"
  },
  "varInspector": {
   "cols": {
    "lenName": 16,
    "lenType": 16,
    "lenVar": 40
   },
   "kernels_config": {
    "python": {
     "delete_cmd_postfix": "",
     "delete_cmd_prefix": "del ",
     "library": "var_list.py",
     "varRefreshCmd": "print(var_dic_list())"
    },
    "r": {
     "delete_cmd_postfix": ") ",
     "delete_cmd_prefix": "rm(",
     "library": "var_list.r",
     "varRefreshCmd": "cat(var_dic_list()) "
    }
   },
   "types_to_exclude": [
    "module",
    "function",
    "builtin_function_or_method",
    "instance",
    "_Feature"
   ],
   "window_display": false
  }
 },
 "nbformat": 4,
 "nbformat_minor": 4
}
